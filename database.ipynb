{
 "cells": [
  {
   "cell_type": "markdown",
   "id": "bdb5bc72",
   "metadata": {},
   "source": [
    "## **Python with SQLite Database**"
   ]
  },
  {
   "cell_type": "code",
   "execution_count": 1,
   "id": "ed51e30c",
   "metadata": {},
   "outputs": [],
   "source": [
    "# importing the required module\n",
    "import sqlite3"
   ]
  },
  {
   "cell_type": "code",
   "execution_count": 2,
   "id": "927bde14",
   "metadata": {},
   "outputs": [
    {
     "name": "stdout",
     "output_type": "stream",
     "text": [
      "Connected with the database successfully...\n"
     ]
    }
   ],
   "source": [
    "# use the database if it pre-exists or create it otherwise\n",
    "try:\n",
    "    connection = sqlite3.connect(\"myemp.db\")\n",
    "    print (\"Connected with the database successfully...\")\n",
    "except:\n",
    "    print (\"Database creation ERROR !!!\")"
   ]
  },
  {
   "cell_type": "code",
   "execution_count": null,
   "id": "5f309d8e",
   "metadata": {},
   "outputs": [],
   "source": [
    "https://extendsclass.com/sqlite-browser.html#"
   ]
  },
  {
   "cell_type": "code",
   "execution_count": 3,
   "id": "f5e51690",
   "metadata": {},
   "outputs": [
    {
     "name": "stdout",
     "output_type": "stream",
     "text": [
      "Database table has been created successfully...\n"
     ]
    }
   ],
   "source": [
    "# create employee table as employee(emp_id, emp_name, emp_city, emp_salary)\n",
    "sqlStr = '''\n",
    "         CREATE TABLE employee (\n",
    "             emp_id INTEGER PRIMARY KEY,\n",
    "             emp_name TEXT,\n",
    "             emp_city TEXT,\n",
    "             emp_salary REAL\n",
    "         );\n",
    "         '''\n",
    "try:    # create the employee table if it does not pre-exist\n",
    "    connection.execute(sqlStr)\n",
    "    print (\"Database table has been created successfully...\")\n",
    "except:\n",
    "    print (\"Error occurred while creating the database table...\")"
   ]
  },
  {
   "cell_type": "code",
   "execution_count": 13,
   "id": "94ea92cd",
   "metadata": {},
   "outputs": [
    {
     "name": "stdout",
     "output_type": "stream",
     "text": [
      "<sqlite3.Cursor object at 0x0000023F6A34A8C0>\n",
      "[(0, 'emp_id', 'INTEGER', 0, None, 1), (1, 'emp_name', 'TEXT', 0, None, 0), (2, 'emp_city', 'TEXT', 0, None, 0), (3, 'emp_salary', 'REAL', 0, None, 0)]\n",
      "(0, 'emp_id', 'INTEGER', 0, None, 1)\n",
      "(1, 'emp_name', 'TEXT', 0, None, 0)\n",
      "(2, 'emp_city', 'TEXT', 0, None, 0)\n",
      "(3, 'emp_salary', 'REAL', 0, None, 0)\n"
     ]
    }
   ],
   "source": [
    "print (connection.execute('pragma table_info(employee)'))\n",
    "print (list(connection.execute('pragma table_info(employee)')))  # returns list of tuples\n",
    "for each_row in list(connection.execute('pragma table_info(employee)')):\n",
    "    print (each_row)"
   ]
  },
  {
   "cell_type": "code",
   "execution_count": 9,
   "id": "7b347c80",
   "metadata": {},
   "outputs": [
    {
     "name": "stdout",
     "output_type": "stream",
     "text": [
      "[['1001', 'Dhiman', 'Kolkata', '39000'], ['1002', 'Anupam', 'Kolkata', '25000'], ['1003', 'Subham', 'Mumbai', '36000'], ['1004', 'Dinesh', 'Chennai', '28000'], ['1005', 'Kakali', 'Mumbai', '25000'], ['1006', 'Bimal', 'Hyderabad', '30000'], ['1007', 'Tarun', 'Chennai', '17000'], ['1008', 'Rittik', 'Durgapur', '45000'], ['1009', 'Barun', 'Hyderabad', '39000'], ['1010', 'Utpal', 'Lucknow', '20000']]\n",
      "0\n"
     ]
    }
   ],
   "source": [
    "# reading data from the csv file\n",
    "import csv\n",
    "# read lines from the csv file and store them into the table\n",
    "with open('emp_data.csv') as data_file:\n",
    "    csv_reader = csv.reader(data_file)\n",
    "    # reader to read from the data file with ',' as a delimiter/separator\n",
    "    print (list(csv_reader))\n",
    "    print (len(list(csv_reader)))"
   ]
  },
  {
   "cell_type": "code",
   "execution_count": 16,
   "id": "e9152cc7",
   "metadata": {},
   "outputs": [
    {
     "name": "stdout",
     "output_type": "stream",
     "text": [
      "All records got inserted successfully...\n"
     ]
    }
   ],
   "source": [
    "# reading data from the csv file and feeding it to the employee table\n",
    "import csv\n",
    "sqlStr = \"INSERT INTO employee VALUES('{e_id}', '{e_name}', '{e_city}', '{e_salary}');\"\n",
    "# read lines from the csv file and store them into the table\n",
    "with open('emp_data.csv') as data_file:\n",
    "    csv_reader = csv.reader(data_file)\n",
    "    # reader to read from the data file with ',' as a delimiter/separator\n",
    "    for each_row in csv_reader:\n",
    "        # print (each_row)\n",
    "        connection.execute(sqlStr.format(e_id=each_row[0], e_name=each_row[1], e_city=each_row[2], e_salary=each_row[3]))\n",
    "connection.commit()   # to make the change permanent\n",
    "print (\"All records got inserted successfully...\")"
   ]
  },
  {
   "cell_type": "code",
   "execution_count": 18,
   "id": "11ed239c",
   "metadata": {},
   "outputs": [],
   "source": [
    "# csv_reader = csv.reader(data_file)"
   ]
  },
  {
   "cell_type": "code",
   "execution_count": 21,
   "id": "9205440f",
   "metadata": {},
   "outputs": [
    {
     "name": "stdout",
     "output_type": "stream",
     "text": [
      "Emp-ID: 1001, Emp-Name: Dhiman, Emp-City: Kolkata, Emp-Salary: 39000.0\n",
      "Emp-ID: 1002, Emp-Name: Anupam, Emp-City: Kolkata, Emp-Salary: 25000.0\n",
      "Emp-ID: 1003, Emp-Name: Subham, Emp-City: Mumbai, Emp-Salary: 36000.0\n",
      "Emp-ID: 1004, Emp-Name: Dinesh, Emp-City: Chennai, Emp-Salary: 28000.0\n",
      "Emp-ID: 1005, Emp-Name: Kakali, Emp-City: Mumbai, Emp-Salary: 25000.0\n",
      "Emp-ID: 1006, Emp-Name: Bimal, Emp-City: Hyderabad, Emp-Salary: 30000.0\n",
      "Emp-ID: 1007, Emp-Name: Tarun, Emp-City: Chennai, Emp-Salary: 17000.0\n",
      "Emp-ID: 1008, Emp-Name: Rittik, Emp-City: Durgapur, Emp-Salary: 45000.0\n",
      "Emp-ID: 1009, Emp-Name: Barun, Emp-City: Hyderabad, Emp-Salary: 39000.0\n",
      "Emp-ID: 1010, Emp-Name: Utpal, Emp-City: Lucknow, Emp-Salary: 20000.0\n"
     ]
    }
   ],
   "source": [
    "# retrieving records from the database table\n",
    "# SQL for fetching all records from the table\n",
    "sqlStr = \"SELECT * FROM employee;\"\n",
    "# read from the table and point the cursor to the variable cur_table\n",
    "cur_table = connection.execute(sqlStr)\n",
    "# print (list(cur_table))\n",
    "for row in list(cur_table):\n",
    "    print(f\"Emp-ID: {row[0]}, Emp-Name: {row[1]}, Emp-City: {row[2]}, Emp-Salary: {row[3]}\")"
   ]
  },
  {
   "cell_type": "markdown",
   "id": "6bf3762d",
   "metadata": {},
   "source": [
    "### **Class Assignment-1**"
   ]
  },
  {
   "cell_type": "code",
   "execution_count": 22,
   "id": "e78c2333",
   "metadata": {},
   "outputs": [
    {
     "name": "stdout",
     "output_type": "stream",
     "text": [
      "Emp-Name: Dhiman, Emp-Salary: 39000.0, Emp-Tax: 3900.0\n",
      "Emp-Name: Anupam, Emp-Salary: 25000.0, Emp-Tax: 2500.0\n",
      "Emp-Name: Subham, Emp-Salary: 36000.0, Emp-Tax: 3600.0\n",
      "Emp-Name: Dinesh, Emp-Salary: 28000.0, Emp-Tax: 2800.0\n",
      "Emp-Name: Kakali, Emp-Salary: 25000.0, Emp-Tax: 2500.0\n",
      "Emp-Name: Bimal, Emp-Salary: 30000.0, Emp-Tax: 3000.0\n",
      "Emp-Name: Tarun, Emp-Salary: 17000.0, Emp-Tax: 1700.0\n",
      "Emp-Name: Rittik, Emp-Salary: 45000.0, Emp-Tax: 4500.0\n",
      "Emp-Name: Barun, Emp-Salary: 39000.0, Emp-Tax: 3900.0\n",
      "Emp-Name: Utpal, Emp-Salary: 20000.0, Emp-Tax: 2000.0\n"
     ]
    }
   ],
   "source": [
    "# Fetch employee name, salary and 10% Tax against salaries of all employees.\n",
    "# retrieving records from the database table\n",
    "# SQL for fetching all records from the table\n",
    "sqlStr = \"SELECT emp_name, emp_salary, emp_salary * 0.10 FROM employee;\"\n",
    "# read from the table and point the cursor to the variable cur_table\n",
    "cur_table = connection.execute(sqlStr)\n",
    "# print (list(cur_table))\n",
    "for row in list(cur_table):\n",
    "    print(f\"Emp-Name: {row[0]}, Emp-Salary: {row[1]}, Emp-Tax: {row[2]}\")"
   ]
  },
  {
   "cell_type": "markdown",
   "id": "8438c65a",
   "metadata": {},
   "source": [
    "### **Class Assignment-2**"
   ]
  },
  {
   "cell_type": "code",
   "execution_count": 25,
   "id": "75ee1660",
   "metadata": {},
   "outputs": [
    {
     "name": "stdout",
     "output_type": "stream",
     "text": [
      "Emp-City: Chennai and Avg-Emp-Salary: 22500.0\n",
      "Emp-City: Durgapur and Avg-Emp-Salary: 45000.0\n",
      "Emp-City: Hyderabad and Avg-Emp-Salary: 34500.0\n",
      "Emp-City: Kolkata and Avg-Emp-Salary: 32000.0\n",
      "Emp-City: Lucknow and Avg-Emp-Salary: 20000.0\n",
      "Emp-City: Mumbai and Avg-Emp-Salary: 30500.0\n"
     ]
    }
   ],
   "source": [
    "# Fetch city wise average salaries for all the employees\n",
    "sqlStr = \"SELECT emp_city, AVG(emp_salary) FROM employee GROUP BY emp_city;\"\n",
    "# read from the table and point the cursor to the variable cur_table\n",
    "cur_table = connection.execute(sqlStr)\n",
    "# print (list(cur_table))\n",
    "for row in list(cur_table):\n",
    "    print(f\"Emp-City: {row[0]} and Avg-Emp-Salary: {row[1]}\")"
   ]
  },
  {
   "cell_type": "code",
   "execution_count": null,
   "id": "e93959e6",
   "metadata": {},
   "outputs": [],
   "source": [
    "# update operation on the records of the table\n",
    "# update salary to 30000 where city is Chennai"
   ]
  },
  {
   "cell_type": "code",
   "execution_count": null,
   "id": "ade085f0",
   "metadata": {},
   "outputs": [],
   "source": []
  },
  {
   "cell_type": "code",
   "execution_count": null,
   "id": "2fce7304",
   "metadata": {},
   "outputs": [],
   "source": []
  },
  {
   "cell_type": "code",
   "execution_count": null,
   "id": "60b02465",
   "metadata": {},
   "outputs": [],
   "source": []
  },
  {
   "cell_type": "code",
   "execution_count": null,
   "id": "7c621d92",
   "metadata": {},
   "outputs": [],
   "source": []
  },
  {
   "cell_type": "code",
   "execution_count": null,
   "id": "5c4b5cc2",
   "metadata": {},
   "outputs": [],
   "source": []
  },
  {
   "cell_type": "code",
   "execution_count": null,
   "id": "7fe5a103",
   "metadata": {},
   "outputs": [],
   "source": []
  },
  {
   "cell_type": "code",
   "execution_count": null,
   "id": "777a0196",
   "metadata": {},
   "outputs": [],
   "source": []
  },
  {
   "cell_type": "code",
   "execution_count": null,
   "id": "49cc7175",
   "metadata": {},
   "outputs": [],
   "source": []
  }
 ],
 "metadata": {
  "kernelspec": {
   "display_name": "Python 3 (ipykernel)",
   "language": "python",
   "name": "python3"
  },
  "language_info": {
   "codemirror_mode": {
    "name": "ipython",
    "version": 3
   },
   "file_extension": ".py",
   "mimetype": "text/x-python",
   "name": "python",
   "nbconvert_exporter": "python",
   "pygments_lexer": "ipython3",
   "version": "3.10.9"
  }
 },
 "nbformat": 4,
 "nbformat_minor": 5
}
