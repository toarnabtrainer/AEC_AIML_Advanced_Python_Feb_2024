{
 "cells": [
  {
   "cell_type": "markdown",
   "id": "81e8ab40",
   "metadata": {},
   "source": [
    "## **Python with SQLite Database**"
   ]
  },
  {
   "cell_type": "code",
   "execution_count": 1,
   "id": "0602c637",
   "metadata": {},
   "outputs": [],
   "source": [
    "# importing the required module\n",
    "import sqlite3"
   ]
  },
  {
   "cell_type": "code",
   "execution_count": 2,
   "id": "29e5703f",
   "metadata": {},
   "outputs": [
    {
     "name": "stdout",
     "output_type": "stream",
     "text": [
      "Connected with the database successfully...\n"
     ]
    }
   ],
   "source": [
    "# use the database if it pre-exists or create it otherwise\n",
    "try:\n",
    "    connection = sqlite3.connect(\"myemp.db\")\n",
    "    print (\"Connected with the database successfully...\")\n",
    "except:\n",
    "    print (\"Database creation ERROR !!!\")"
   ]
  },
  {
   "cell_type": "code",
   "execution_count": null,
   "id": "87dac561",
   "metadata": {},
   "outputs": [],
   "source": [
    "https://extendsclass.com/sqlite-browser.html#"
   ]
  },
  {
   "cell_type": "code",
   "execution_count": 3,
   "id": "83c00ff4",
   "metadata": {},
   "outputs": [
    {
     "name": "stdout",
     "output_type": "stream",
     "text": [
      "Database table has been created successfully...\n"
     ]
    }
   ],
   "source": [
    "# create employee table as employee(emp_id, emp_name, emp_city, emp_salary)\n",
    "sqlStr = '''\n",
    "         CREATE TABLE employee (\n",
    "             emp_id INTEGER PRIMARY KEY,\n",
    "             emp_name TEXT,\n",
    "             emp_city TEXT,\n",
    "             emp_salary REAL\n",
    "         );\n",
    "         '''\n",
    "try:    # create the employee table if it does not pre-exist\n",
    "    connection.execute(sqlStr)\n",
    "    print (\"Database table has been created successfully...\")\n",
    "except:\n",
    "    print (\"Error occurred while creating the database table...\")"
   ]
  },
  {
   "cell_type": "code",
   "execution_count": 13,
   "id": "a804d4c6",
   "metadata": {},
   "outputs": [
    {
     "name": "stdout",
     "output_type": "stream",
     "text": [
      "<sqlite3.Cursor object at 0x0000023F6A34A8C0>\n",
      "[(0, 'emp_id', 'INTEGER', 0, None, 1), (1, 'emp_name', 'TEXT', 0, None, 0), (2, 'emp_city', 'TEXT', 0, None, 0), (3, 'emp_salary', 'REAL', 0, None, 0)]\n",
      "(0, 'emp_id', 'INTEGER', 0, None, 1)\n",
      "(1, 'emp_name', 'TEXT', 0, None, 0)\n",
      "(2, 'emp_city', 'TEXT', 0, None, 0)\n",
      "(3, 'emp_salary', 'REAL', 0, None, 0)\n"
     ]
    }
   ],
   "source": [
    "print (connection.execute('pragma table_info(employee)'))\n",
    "print (list(connection.execute('pragma table_info(employee)')))  # returns list of tuples\n",
    "for each_row in list(connection.execute('pragma table_info(employee)')):\n",
    "    print (each_row)"
   ]
  },
  {
   "cell_type": "code",
   "execution_count": 9,
   "id": "73779c23",
   "metadata": {},
   "outputs": [
    {
     "name": "stdout",
     "output_type": "stream",
     "text": [
      "[['1001', 'Dhiman', 'Kolkata', '39000'], ['1002', 'Anupam', 'Kolkata', '25000'], ['1003', 'Subham', 'Mumbai', '36000'], ['1004', 'Dinesh', 'Chennai', '28000'], ['1005', 'Kakali', 'Mumbai', '25000'], ['1006', 'Bimal', 'Hyderabad', '30000'], ['1007', 'Tarun', 'Chennai', '17000'], ['1008', 'Rittik', 'Durgapur', '45000'], ['1009', 'Barun', 'Hyderabad', '39000'], ['1010', 'Utpal', 'Lucknow', '20000']]\n",
      "0\n"
     ]
    }
   ],
   "source": [
    "# reading data from the csv file\n",
    "import csv\n",
    "# read lines from the csv file and store them into the table\n",
    "with open('emp_data.csv') as data_file:\n",
    "    csv_reader = csv.reader(data_file)\n",
    "    # reader to read from the data file with ',' as a delimiter/separator\n",
    "    print (list(csv_reader))\n",
    "    print (len(list(csv_reader)))"
   ]
  },
  {
   "cell_type": "code",
   "execution_count": 16,
   "id": "b3d06bca",
   "metadata": {},
   "outputs": [
    {
     "name": "stdout",
     "output_type": "stream",
     "text": [
      "All records got inserted successfully...\n"
     ]
    }
   ],
   "source": [
    "# reading data from the csv file and feeding it to the employee table\n",
    "import csv\n",
    "sqlStr = \"INSERT INTO employee VALUES('{e_id}', '{e_name}', '{e_city}', '{e_salary}');\"\n",
    "# read lines from the csv file and store them into the table\n",
    "with open('emp_data.csv') as data_file:\n",
    "    csv_reader = csv.reader(data_file)\n",
    "    # reader to read from the data file with ',' as a delimiter/separator\n",
    "    for each_row in csv_reader:\n",
    "        # print (each_row)\n",
    "        connection.execute(sqlStr.format(e_id=each_row[0], e_name=each_row[1], e_city=each_row[2], e_salary=each_row[3]))\n",
    "connection.commit()   # to make the change permanent\n",
    "print (\"All records got inserted successfully...\")"
   ]
  },
  {
   "cell_type": "code",
   "execution_count": 18,
   "id": "ee12984e",
   "metadata": {},
   "outputs": [],
   "source": [
    "# csv_reader = csv.reader(data_file)"
   ]
  },
  {
   "cell_type": "code",
   "execution_count": 21,
   "id": "5e6c0baa",
   "metadata": {},
   "outputs": [
    {
     "name": "stdout",
     "output_type": "stream",
     "text": [
      "Emp-ID: 1001, Emp-Name: Dhiman, Emp-City: Kolkata, Emp-Salary: 39000.0\n",
      "Emp-ID: 1002, Emp-Name: Anupam, Emp-City: Kolkata, Emp-Salary: 25000.0\n",
      "Emp-ID: 1003, Emp-Name: Subham, Emp-City: Mumbai, Emp-Salary: 36000.0\n",
      "Emp-ID: 1004, Emp-Name: Dinesh, Emp-City: Chennai, Emp-Salary: 28000.0\n",
      "Emp-ID: 1005, Emp-Name: Kakali, Emp-City: Mumbai, Emp-Salary: 25000.0\n",
      "Emp-ID: 1006, Emp-Name: Bimal, Emp-City: Hyderabad, Emp-Salary: 30000.0\n",
      "Emp-ID: 1007, Emp-Name: Tarun, Emp-City: Chennai, Emp-Salary: 17000.0\n",
      "Emp-ID: 1008, Emp-Name: Rittik, Emp-City: Durgapur, Emp-Salary: 45000.0\n",
      "Emp-ID: 1009, Emp-Name: Barun, Emp-City: Hyderabad, Emp-Salary: 39000.0\n",
      "Emp-ID: 1010, Emp-Name: Utpal, Emp-City: Lucknow, Emp-Salary: 20000.0\n"
     ]
    }
   ],
   "source": [
    "# retrieving records from the database table\n",
    "# SQL for fetching all records from the table\n",
    "sqlStr = \"SELECT * FROM employee;\"\n",
    "# read from the table and point the cursor to the variable cur_table\n",
    "cur_table = connection.execute(sqlStr)\n",
    "# print (list(cur_table))\n",
    "for row in list(cur_table):\n",
    "    print(f\"Emp-ID: {row[0]}, Emp-Name: {row[1]}, Emp-City: {row[2]}, Emp-Salary: {row[3]}\")"
   ]
  },
  {
   "cell_type": "markdown",
   "id": "86d86001",
   "metadata": {},
   "source": [
    "### **Class Assignment-1**"
   ]
  },
  {
   "cell_type": "code",
   "execution_count": null,
   "id": "368a1bf6",
   "metadata": {},
   "outputs": [],
   "source": [
    "# Fetch employee name, salary and 10% Tax against salaries of all employees."
   ]
  },
  {
   "cell_type": "code",
   "execution_count": null,
   "id": "06dcbd53",
   "metadata": {},
   "outputs": [],
   "source": []
  },
  {
   "cell_type": "code",
   "execution_count": null,
   "id": "241915d9",
   "metadata": {},
   "outputs": [],
   "source": []
  },
  {
   "cell_type": "code",
   "execution_count": null,
   "id": "2a4d7385",
   "metadata": {},
   "outputs": [],
   "source": []
  },
  {
   "cell_type": "code",
   "execution_count": null,
   "id": "c375f720",
   "metadata": {},
   "outputs": [],
   "source": []
  },
  {
   "cell_type": "code",
   "execution_count": null,
   "id": "e9c864b3",
   "metadata": {},
   "outputs": [],
   "source": []
  },
  {
   "cell_type": "code",
   "execution_count": null,
   "id": "aff5bb64",
   "metadata": {},
   "outputs": [],
   "source": []
  },
  {
   "cell_type": "code",
   "execution_count": null,
   "id": "35961dac",
   "metadata": {},
   "outputs": [],
   "source": []
  },
  {
   "cell_type": "code",
   "execution_count": null,
   "id": "a20b4ccc",
   "metadata": {},
   "outputs": [],
   "source": []
  },
  {
   "cell_type": "code",
   "execution_count": null,
   "id": "96763ea7",
   "metadata": {},
   "outputs": [],
   "source": []
  },
  {
   "cell_type": "code",
   "execution_count": null,
   "id": "455f160e",
   "metadata": {},
   "outputs": [],
   "source": []
  },
  {
   "cell_type": "code",
   "execution_count": null,
   "id": "a14aa0e8",
   "metadata": {},
   "outputs": [],
   "source": []
  }
 ],
 "metadata": {
  "kernelspec": {
   "display_name": "Python 3 (ipykernel)",
   "language": "python",
   "name": "python3"
  },
  "language_info": {
   "codemirror_mode": {
    "name": "ipython",
    "version": 3
   },
   "file_extension": ".py",
   "mimetype": "text/x-python",
   "name": "python",
   "nbconvert_exporter": "python",
   "pygments_lexer": "ipython3",
   "version": "3.10.9"
  }
 },
 "nbformat": 4,
 "nbformat_minor": 5
}
