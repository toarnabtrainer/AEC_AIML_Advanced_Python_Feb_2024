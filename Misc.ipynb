{
 "cells": [
  {
   "cell_type": "markdown",
   "id": "e1574ba9",
   "metadata": {},
   "source": [
    "## **Python map() function**"
   ]
  },
  {
   "cell_type": "code",
   "execution_count": null,
   "id": "9b653d61",
   "metadata": {},
   "outputs": [],
   "source": []
  },
  {
   "cell_type": "markdown",
   "id": "05b8ea0a",
   "metadata": {},
   "source": [
    "> The map() function executes a specific function for each item in an iterable. The item is sent to the function as a parameter.<br>\n",
    "> **Syntax**: map(function, iterables)"
   ]
  },
  {
   "cell_type": "code",
   "execution_count": 4,
   "id": "65b4f9c5",
   "metadata": {},
   "outputs": [
    {
     "name": "stdout",
     "output_type": "stream",
     "text": [
      "['Sunday', 'Tuesday', 'Thursday', 'Saturday']\n",
      "<map object at 0x000001F2FE07D240>\n",
      "[6, 7, 8, 8]\n"
     ]
    }
   ],
   "source": [
    "def myfunct(mystr):\n",
    "    return len(mystr)\n",
    "\n",
    "list1 = ['Sunday', 'Tuesday', 'Thursday', 'Saturday']\n",
    "output = map(myfunct, list1)\n",
    "print (list1)\n",
    "print (output)\n",
    "print (list(output))"
   ]
  },
  {
   "cell_type": "code",
   "execution_count": 5,
   "id": "e535d11a",
   "metadata": {},
   "outputs": [
    {
     "name": "stdout",
     "output_type": "stream",
     "text": [
      "<map object at 0x000001F2FC7A4550>\n",
      "['Monday', 'Tuesday', 'Wednesday', 'Saturday']\n"
     ]
    }
   ],
   "source": [
    "def myfunct(var1, var2):\n",
    "    return (var1 + var2)\n",
    "list1 = ['Mond', 'Tue', 'Wedne', 'Saturd']\n",
    "list2 = ['ay', 'sday', 'sday', 'ay']\n",
    "output = map(myfunct, list1, list2)\n",
    "print (output)\n",
    "print (list(output))"
   ]
  },
  {
   "cell_type": "code",
   "execution_count": 8,
   "id": "4dd8054d",
   "metadata": {},
   "outputs": [
    {
     "name": "stdout",
     "output_type": "stream",
     "text": [
      "<map object at 0x000001F2FC7A44C0>\n",
      "[1011, 2022, 6066, 3033]\n"
     ]
    }
   ],
   "source": [
    "def myfunct(var1, var2):\n",
    "    return (var1 + var2)\n",
    "list1 = [1000, 2000, 6000, 3000]\n",
    "list2 = [11, 22, 66, 33, 44]\n",
    "output = map(myfunct, list1, list2)\n",
    "print (output)\n",
    "print (list(output))"
   ]
  },
  {
   "cell_type": "code",
   "execution_count": 24,
   "id": "f6e13257",
   "metadata": {},
   "outputs": [
    {
     "name": "stdout",
     "output_type": "stream",
     "text": [
      "Please enter series of numbers: 11 33 22 44 55 88 77\n",
      "['11', '33', '22', '44', '55', '88', '77']\n",
      "<map object at 0x000001F2FBEDBA60>\n",
      "[11, 33, 22, 44, 55, 88, 77]\n"
     ]
    }
   ],
   "source": [
    "list1 = input(\"Please enter series of numbers: \").split()\n",
    "print (list1)\n",
    "output = map(int, list1)\n",
    "print (output)\n",
    "print (list(output))"
   ]
  },
  {
   "cell_type": "code",
   "execution_count": 23,
   "id": "9194ffbf",
   "metadata": {},
   "outputs": [
    {
     "name": "stdout",
     "output_type": "stream",
     "text": [
      "Please enter series of numbers: 11 33 22 44 55 88 77\n",
      "[11, 33, 22, 44, 55, 88, 77]\n"
     ]
    }
   ],
   "source": [
    "output = list(map(int, input(\"Please enter series of numbers: \").split())) # input: [11 33 22 44 55 88 77]\n",
    "print (output)   # [11, 33, 22, 44, 55, 88, 77]"
   ]
  },
  {
   "cell_type": "markdown",
   "id": "6d328694",
   "metadata": {},
   "source": [
    "## **Python filter() function**"
   ]
  },
  {
   "cell_type": "markdown",
   "id": "166e34c0",
   "metadata": {},
   "source": [
    "> The filter() function returns an iterator where the items are filtered through a function\n",
    "to test if the item is accepted or not.<br>\n",
    "**Syntax:** filter(function, iterable)"
   ]
  },
  {
   "cell_type": "code",
   "execution_count": 26,
   "id": "18304b34",
   "metadata": {},
   "outputs": [
    {
     "name": "stdout",
     "output_type": "stream",
     "text": [
      "[5, 12, 17, 19, 34, 20, 4]\n",
      "<filter object at 0x000001F2FDAB1540>\n",
      "[19, 34, 20]\n"
     ]
    }
   ],
   "source": [
    "def myfunct(value):\n",
    "    if (value < 18): return False\n",
    "    else: return True\n",
    "    \n",
    "ages = [5, 12, 17, 19, 34, 20, 4]\n",
    "adults = filter(myfunct, ages)\n",
    "print (ages)\n",
    "print (adults)\n",
    "print (list(adults))"
   ]
  },
  {
   "cell_type": "code",
   "execution_count": 27,
   "id": "1d5c0f9a",
   "metadata": {},
   "outputs": [
    {
     "name": "stdout",
     "output_type": "stream",
     "text": [
      "[2000, 2024, 2020]\n"
     ]
    }
   ],
   "source": [
    "def myfunct(year_value):\n",
    "    if (year_value % 400 == 0): return True\n",
    "    if (year_value % 4 == 0 and year_value % 100 != 0): return True\n",
    "    return False\n",
    "\n",
    "print (list(filter(myfunct, [1800, 2000, 1900, 2024, 2020])))"
   ]
  },
  {
   "cell_type": "code",
   "execution_count": 29,
   "id": "5fdfbc5a",
   "metadata": {},
   "outputs": [
    {
     "name": "stdout",
     "output_type": "stream",
     "text": [
      "[2000, 2024, 2020]\n"
     ]
    }
   ],
   "source": [
    "def myfunct(year):\n",
    "    return True if (year % 400 == 0 or (year % 4 == 0 and year % 100 != 0)) else False\n",
    "\n",
    "print (list(filter(myfunct, [1800, 2000, 1900, 2024, 2020])))"
   ]
  },
  {
   "cell_type": "markdown",
   "id": "72d6a4fd",
   "metadata": {},
   "source": [
    "## **Python reduce() function**"
   ]
  },
  {
   "cell_type": "markdown",
   "id": "70f69ceb",
   "metadata": {},
   "source": [
    "> The reduce() function applies a function of two arguments cumulatively\n",
    "to the elements of an iterable, optionally starting with an initial argument <br>\n",
    "**Syntax:** reduce(funct, iterable [, initial])"
   ]
  },
  {
   "cell_type": "code",
   "execution_count": 32,
   "id": "c00dfe30",
   "metadata": {},
   "outputs": [
    {
     "name": "stdout",
     "output_type": "stream",
     "text": [
      "5000 100\n",
      "5100 200\n",
      "5300 300\n",
      "5600 500\n",
      "6100 400\n",
      "6500\n"
     ]
    }
   ],
   "source": [
    "from functools import reduce\n",
    "def cumulative_sum(first, second):\n",
    "    print (first, second)\n",
    "    return first + second\n",
    "\n",
    "numbers = [100, 200, 300, 500, 400]\n",
    "result = reduce(cumulative_sum, numbers, 5000)\n",
    "print (result)"
   ]
  },
  {
   "cell_type": "code",
   "execution_count": 35,
   "id": "881f3b70",
   "metadata": {},
   "outputs": [
    {
     "name": "stdout",
     "output_type": "stream",
     "text": [
      "1200\n"
     ]
    }
   ],
   "source": [
    "from functools import reduce\n",
    "def max_num(first, second):\n",
    "    return first if (first > second) else second\n",
    "\n",
    "numbers = [100, 1200, 300, 500, 400]\n",
    "result = reduce(max_num, numbers)\n",
    "print (result)"
   ]
  },
  {
   "cell_type": "markdown",
   "id": "3f892d04",
   "metadata": {},
   "source": [
    "## **zip() function**"
   ]
  },
  {
   "cell_type": "code",
   "execution_count": 37,
   "id": "a967e56d",
   "metadata": {},
   "outputs": [
    {
     "name": "stdout",
     "output_type": "stream",
     "text": [
      "<zip object at 0x000001F2FD841F40>\n",
      "[('apple', 400), ('banana', 500), ('pineapple', 200), ('lime', 350)]\n",
      "(('apple', 400), ('banana', 500), ('pineapple', 200), ('lime', 350))\n",
      "{'apple': 400, 'banana': 500, 'pineapple': 200, 'lime': 350}\n"
     ]
    }
   ],
   "source": [
    "fruits = ['apple', 'banana', 'pineapple', 'lime']\n",
    "prices = [400, 500, 200, 350, 900, 120, 1000]\n",
    "print (zip(fruits, prices))\n",
    "print (list(zip(fruits, prices)))\n",
    "print (tuple(zip(fruits, prices)))\n",
    "print (dict(zip(fruits, prices)))"
   ]
  },
  {
   "cell_type": "code",
   "execution_count": 41,
   "id": "3d8e28a6",
   "metadata": {},
   "outputs": [
    {
     "name": "stdout",
     "output_type": "stream",
     "text": [
      "<zip object at 0x000001F2FEB47600>\n",
      "[('apple', 400, 10), ('banana', 500, 30), ('pineapple', 200, 20), ('lime', 350, 44)]\n",
      "(('apple', 400, 10), ('banana', 500, 30), ('pineapple', 200, 20), ('lime', 350, 44))\n",
      "{'apple': (400, 10), 'banana': (500, 30), 'pineapple': (200, 20), 'lime': (350, 44)}\n"
     ]
    }
   ],
   "source": [
    "fruits = ['apple', 'banana', 'pineapple', 'lime']\n",
    "prices = [400, 500, 200, 350, 900, 120, 1000]\n",
    "weights = [10, 30, 20, 44, 33]\n",
    "print (zip(fruits, prices, weights))\n",
    "print (list(zip(fruits, prices, weights)))\n",
    "print (tuple(zip(fruits, prices, weights)))\n",
    "# print (dict(zip(fruits, prices, weights)))\n",
    "print (dict(zip(fruits, tuple(zip(prices, weights)))))"
   ]
  },
  {
   "cell_type": "code",
   "execution_count": null,
   "id": "1f96d3c2",
   "metadata": {},
   "outputs": [],
   "source": []
  },
  {
   "cell_type": "code",
   "execution_count": null,
   "id": "03e71f82",
   "metadata": {},
   "outputs": [],
   "source": []
  },
  {
   "cell_type": "code",
   "execution_count": null,
   "id": "8bedb64b",
   "metadata": {},
   "outputs": [],
   "source": []
  },
  {
   "cell_type": "code",
   "execution_count": null,
   "id": "599765c2",
   "metadata": {},
   "outputs": [],
   "source": []
  },
  {
   "cell_type": "code",
   "execution_count": null,
   "id": "a3d68627",
   "metadata": {},
   "outputs": [],
   "source": []
  },
  {
   "cell_type": "code",
   "execution_count": null,
   "id": "52a682d4",
   "metadata": {},
   "outputs": [],
   "source": []
  },
  {
   "cell_type": "code",
   "execution_count": null,
   "id": "0c2e6860",
   "metadata": {},
   "outputs": [],
   "source": []
  },
  {
   "cell_type": "code",
   "execution_count": null,
   "id": "6a74d8c0",
   "metadata": {},
   "outputs": [],
   "source": []
  }
 ],
 "metadata": {
  "kernelspec": {
   "display_name": "Python 3 (ipykernel)",
   "language": "python",
   "name": "python3"
  },
  "language_info": {
   "codemirror_mode": {
    "name": "ipython",
    "version": 3
   },
   "file_extension": ".py",
   "mimetype": "text/x-python",
   "name": "python",
   "nbconvert_exporter": "python",
   "pygments_lexer": "ipython3",
   "version": "3.10.9"
  }
 },
 "nbformat": 4,
 "nbformat_minor": 5
}
