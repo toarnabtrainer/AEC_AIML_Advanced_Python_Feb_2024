{
 "cells": [
  {
   "cell_type": "markdown",
   "id": "3f93b1c0",
   "metadata": {},
   "source": [
    "## **Python map() function**"
   ]
  },
  {
   "cell_type": "markdown",
   "id": "a86355d5",
   "metadata": {},
   "source": [
    "> The map() function executes a specific function for each item in an iterable. The item is sent to the function as a parameter.<br>\n",
    "> **Syntax**: map(function, iterables)"
   ]
  },
  {
   "cell_type": "code",
   "execution_count": 4,
   "id": "78b45173",
   "metadata": {},
   "outputs": [
    {
     "name": "stdout",
     "output_type": "stream",
     "text": [
      "['Sunday', 'Tuesday', 'Thursday', 'Saturday']\n",
      "<map object at 0x000001F2FE07D240>\n",
      "[6, 7, 8, 8]\n"
     ]
    }
   ],
   "source": [
    "def myfunct(mystr):\n",
    "    return len(mystr)\n",
    "\n",
    "list1 = ['Sunday', 'Tuesday', 'Thursday', 'Saturday']\n",
    "output = map(myfunct, list1)\n",
    "print (list1)\n",
    "print (output)\n",
    "print (list(output))"
   ]
  },
  {
   "cell_type": "code",
   "execution_count": 5,
   "id": "dc0e07e6",
   "metadata": {},
   "outputs": [
    {
     "name": "stdout",
     "output_type": "stream",
     "text": [
      "<map object at 0x000001F2FC7A4550>\n",
      "['Monday', 'Tuesday', 'Wednesday', 'Saturday']\n"
     ]
    }
   ],
   "source": [
    "def myfunct(var1, var2):\n",
    "    return (var1 + var2)\n",
    "list1 = ['Mond', 'Tue', 'Wedne', 'Saturd']\n",
    "list2 = ['ay', 'sday', 'sday', 'ay']\n",
    "output = map(myfunct, list1, list2)\n",
    "print (output)\n",
    "print (list(output))"
   ]
  },
  {
   "cell_type": "code",
   "execution_count": 8,
   "id": "ead76e12",
   "metadata": {},
   "outputs": [
    {
     "name": "stdout",
     "output_type": "stream",
     "text": [
      "<map object at 0x000001F2FC7A44C0>\n",
      "[1011, 2022, 6066, 3033]\n"
     ]
    }
   ],
   "source": [
    "def myfunct(var1, var2):\n",
    "    return (var1 + var2)\n",
    "list1 = [1000, 2000, 6000, 3000]\n",
    "list2 = [11, 22, 66, 33, 44]\n",
    "output = map(myfunct, list1, list2)\n",
    "print (output)\n",
    "print (list(output))"
   ]
  },
  {
   "cell_type": "code",
   "execution_count": 24,
   "id": "208708c9",
   "metadata": {},
   "outputs": [
    {
     "name": "stdout",
     "output_type": "stream",
     "text": [
      "Please enter series of numbers: 11 33 22 44 55 88 77\n",
      "['11', '33', '22', '44', '55', '88', '77']\n",
      "<map object at 0x000001F2FBEDBA60>\n",
      "[11, 33, 22, 44, 55, 88, 77]\n"
     ]
    }
   ],
   "source": [
    "list1 = input(\"Please enter series of numbers: \").split()\n",
    "print (list1)\n",
    "output = map(int, list1)\n",
    "print (output)\n",
    "print (list(output))"
   ]
  },
  {
   "cell_type": "code",
   "execution_count": 23,
   "id": "244a99a3",
   "metadata": {},
   "outputs": [
    {
     "name": "stdout",
     "output_type": "stream",
     "text": [
      "Please enter series of numbers: 11 33 22 44 55 88 77\n",
      "[11, 33, 22, 44, 55, 88, 77]\n"
     ]
    }
   ],
   "source": [
    "output = list(map(int, input(\"Please enter series of numbers: \").split())) # input: [11 33 22 44 55 88 77]\n",
    "print (output)   # [11, 33, 22, 44, 55, 88, 77]"
   ]
  },
  {
   "cell_type": "markdown",
   "id": "8860b1f9",
   "metadata": {},
   "source": [
    "## **Python filter() function**"
   ]
  },
  {
   "cell_type": "markdown",
   "id": "c94a6579",
   "metadata": {},
   "source": [
    "> The filter() function returns an iterator where the items are filtered through a function\n",
    "to test if the item is accepted or not.<br>\n",
    "**Syntax:** filter(function, iterable)"
   ]
  },
  {
   "cell_type": "code",
   "execution_count": 26,
   "id": "f183a2f0",
   "metadata": {},
   "outputs": [
    {
     "name": "stdout",
     "output_type": "stream",
     "text": [
      "[5, 12, 17, 19, 34, 20, 4]\n",
      "<filter object at 0x000001F2FDAB1540>\n",
      "[19, 34, 20]\n"
     ]
    }
   ],
   "source": [
    "def myfunct(value):\n",
    "    if (value < 18): return False\n",
    "    else: return True\n",
    "    \n",
    "ages = [5, 12, 17, 19, 34, 20, 4]\n",
    "adults = filter(myfunct, ages)\n",
    "print (ages)\n",
    "print (adults)\n",
    "print (list(adults))"
   ]
  },
  {
   "cell_type": "code",
   "execution_count": 27,
   "id": "691473c8",
   "metadata": {},
   "outputs": [
    {
     "name": "stdout",
     "output_type": "stream",
     "text": [
      "[2000, 2024, 2020]\n"
     ]
    }
   ],
   "source": [
    "def myfunct(year_value):\n",
    "    if (year_value % 400 == 0): return True\n",
    "    if (year_value % 4 == 0 and year_value % 100 != 0): return True\n",
    "    return False\n",
    "\n",
    "print (list(filter(myfunct, [1800, 2000, 1900, 2024, 2020])))"
   ]
  },
  {
   "cell_type": "code",
   "execution_count": 29,
   "id": "b7bef11f",
   "metadata": {},
   "outputs": [
    {
     "name": "stdout",
     "output_type": "stream",
     "text": [
      "[2000, 2024, 2020]\n"
     ]
    }
   ],
   "source": [
    "def myfunct(year):\n",
    "    return True if (year % 400 == 0 or (year % 4 == 0 and year % 100 != 0)) else False\n",
    "\n",
    "print (list(filter(myfunct, [1800, 2000, 1900, 2024, 2020])))"
   ]
  },
  {
   "cell_type": "markdown",
   "id": "d74c0465",
   "metadata": {},
   "source": [
    "## **Python reduce() function**"
   ]
  },
  {
   "cell_type": "markdown",
   "id": "b4b17704",
   "metadata": {},
   "source": [
    "> The reduce() function applies a function of two arguments cumulatively\n",
    "to the elements of an iterable, optionally starting with an initial argument <br>\n",
    "**Syntax:** reduce(funct, iterable [, initial])"
   ]
  },
  {
   "cell_type": "code",
   "execution_count": 32,
   "id": "927430ce",
   "metadata": {},
   "outputs": [
    {
     "name": "stdout",
     "output_type": "stream",
     "text": [
      "5000 100\n",
      "5100 200\n",
      "5300 300\n",
      "5600 500\n",
      "6100 400\n",
      "6500\n"
     ]
    }
   ],
   "source": [
    "from functools import reduce\n",
    "def cumulative_sum(first, second):\n",
    "    print (first, second)\n",
    "    return first + second\n",
    "\n",
    "numbers = [100, 200, 300, 500, 400]\n",
    "result = reduce(cumulative_sum, numbers, 5000)\n",
    "print (result)"
   ]
  },
  {
   "cell_type": "code",
   "execution_count": 35,
   "id": "d63a39d3",
   "metadata": {},
   "outputs": [
    {
     "name": "stdout",
     "output_type": "stream",
     "text": [
      "1200\n"
     ]
    }
   ],
   "source": [
    "from functools import reduce\n",
    "def max_num(first, second):\n",
    "    return first if (first > second) else second\n",
    "\n",
    "numbers = [100, 1200, 300, 500, 400]\n",
    "result = reduce(max_num, numbers)\n",
    "print (result)"
   ]
  },
  {
   "cell_type": "markdown",
   "id": "370d26d7",
   "metadata": {},
   "source": [
    "## **zip() function**"
   ]
  },
  {
   "cell_type": "code",
   "execution_count": 37,
   "id": "04575a58",
   "metadata": {},
   "outputs": [
    {
     "name": "stdout",
     "output_type": "stream",
     "text": [
      "<zip object at 0x000001F2FD841F40>\n",
      "[('apple', 400), ('banana', 500), ('pineapple', 200), ('lime', 350)]\n",
      "(('apple', 400), ('banana', 500), ('pineapple', 200), ('lime', 350))\n",
      "{'apple': 400, 'banana': 500, 'pineapple': 200, 'lime': 350}\n"
     ]
    }
   ],
   "source": [
    "fruits = ['apple', 'banana', 'pineapple', 'lime']\n",
    "prices = [400, 500, 200, 350, 900, 120, 1000]\n",
    "print (zip(fruits, prices))\n",
    "print (list(zip(fruits, prices)))\n",
    "print (tuple(zip(fruits, prices)))\n",
    "print (dict(zip(fruits, prices)))"
   ]
  },
  {
   "cell_type": "code",
   "execution_count": 43,
   "id": "2546bc93",
   "metadata": {},
   "outputs": [
    {
     "name": "stdout",
     "output_type": "stream",
     "text": [
      "<zip object at 0x000001F2FEB75B80>\n",
      "[('apple', 400, 10), ('banana', 500, 30), ('pineapple', 200, 20), ('lime', 350, 44)]\n",
      "(('apple', 400, 10), ('banana', 500, 30), ('pineapple', 200, 20), ('lime', 350, 44))\n",
      "{'apple': (400, 10), 'banana': (500, 30), 'pineapple': (200, 20), 'lime': (350, 44)}\n",
      "{'apple': (400, 10), 'banana': (500, 30), 'pineapple': (200, 20), 'lime': (350, 44)}\n",
      "{'apple': (400, 10), 'banana': (500, 30), 'pineapple': (200, 20), 'lime': (350, 44)}\n"
     ]
    }
   ],
   "source": [
    "fruits = ['apple', 'banana', 'pineapple', 'lime']\n",
    "prices = [400, 500, 200, 350, 900, 120, 1000]\n",
    "weights = [10, 30, 20, 44, 33]\n",
    "print (zip(fruits, prices, weights))\n",
    "print (list(zip(fruits, prices, weights)))\n",
    "print (tuple(zip(fruits, prices, weights)))\n",
    "# print (dict(zip(fruits, prices, weights)))\n",
    "print (dict(zip(fruits, tuple(zip(prices, weights)))))\n",
    "print (dict(zip(fruits, zip(prices, weights))))\n",
    "print (dict(zip(fruits, list(zip(prices, weights)))))"
   ]
  },
  {
   "cell_type": "markdown",
   "id": "d3ce677d",
   "metadata": {},
   "source": [
    "## **cycle() function**"
   ]
  },
  {
   "cell_type": "code",
   "execution_count": 46,
   "id": "050c6ceb",
   "metadata": {},
   "outputs": [
    {
     "name": "stdout",
     "output_type": "stream",
     "text": [
      "(100, 34)\n",
      "University\n",
      "43.2\n",
      "[True, False]\n",
      "(100, 34)\n",
      "University\n"
     ]
    }
   ],
   "source": [
    "import itertools\n",
    "list1 = [(100, 34), \"University\", 43.2, [True, False]]\n",
    "result = itertools.cycle(list1)\n",
    "print (next(result))\n",
    "print (next(result))\n",
    "print (next(result))\n",
    "print (next(result))\n",
    "print (next(result))\n",
    "print (next(result))"
   ]
  },
  {
   "cell_type": "code",
   "execution_count": 49,
   "id": "9b931c85",
   "metadata": {},
   "outputs": [
    {
     "name": "stdout",
     "output_type": "stream",
     "text": [
      "(100, 34)\n",
      "University\n",
      "43.2\n",
      "[True, False]\n",
      "(100, 34)\n",
      "University\n"
     ]
    }
   ],
   "source": [
    "from itertools import cycle\n",
    "list1 = [(100, 34), \"University\", 43.2, [True, False]]\n",
    "result = cycle(list1)\n",
    "print (next(result))\n",
    "print (next(result))\n",
    "print (next(result))\n",
    "print (next(result))\n",
    "print (next(result))\n",
    "print (next(result))"
   ]
  },
  {
   "cell_type": "markdown",
   "id": "a356af4d",
   "metadata": {},
   "source": [
    "## **Cartesian Product of list elements**"
   ]
  },
  {
   "cell_type": "code",
   "execution_count": 50,
   "id": "58b66ad5",
   "metadata": {},
   "outputs": [
    {
     "name": "stdout",
     "output_type": "stream",
     "text": [
      "<itertools.product object at 0x000001F2FE9F7400>\n",
      "[('Apple', 11), ('Apple', 33), ('Apple', 22), ('Lemon', 11), ('Lemon', 33), ('Lemon', 22)]\n"
     ]
    }
   ],
   "source": [
    "from itertools import product\n",
    "list1 = ['Apple', 'Lemon']\n",
    "list2 = [11, 33, 22]\n",
    "result = product(list1, list2)\n",
    "print (result)\n",
    "print (list(result))"
   ]
  },
  {
   "cell_type": "markdown",
   "id": "adb67537",
   "metadata": {},
   "source": [
    "## **bisect_left and bisect_right**"
   ]
  },
  {
   "cell_type": "code",
   "execution_count": 52,
   "id": "d87ed4f2",
   "metadata": {},
   "outputs": [
    {
     "name": "stdout",
     "output_type": "stream",
     "text": [
      "1 1\n",
      "6 6\n",
      "3 3\n",
      "3 4\n"
     ]
    }
   ],
   "source": [
    "from bisect import bisect_left\n",
    "from bisect import bisect_right\n",
    "list1 = [11, 22, 33, 44, 55, 66]\n",
    "print (bisect_left(list1, 15), bisect_right(list1, 15))\n",
    "print (bisect_left(list1, 75), bisect_right(list1, 75))\n",
    "print (bisect_left(list1, 35), bisect_right(list1, 35))\n",
    "print (bisect_left(list1, 44), bisect_right(list1, 44))"
   ]
  },
  {
   "cell_type": "markdown",
   "id": "134b5146",
   "metadata": {},
   "source": [
    "## **Sorting of a Matrix**"
   ]
  },
  {
   "cell_type": "code",
   "execution_count": 58,
   "id": "76d8f786",
   "metadata": {},
   "outputs": [
    {
     "name": "stdout",
     "output_type": "stream",
     "text": [
      "[[10, 14, 6], [2, -22, -7], [-3, 8, 10], [40, -10, 1]]\n",
      "[[2, -22, -7], [40, -10, 1], [10, 14, 6], [-3, 8, 10]]\n",
      "[[10, 14, 6], [2, -22, -7], [-3, 8, 10], [40, -10, 1]]\n",
      "[[2, -22, -7], [40, -10, 1], [10, 14, 6], [-3, 8, 10]]\n"
     ]
    }
   ],
   "source": [
    "list1 = [10, 2, -3, 40]\n",
    "list2 = [14, -22, 8, -10]\n",
    "list3 = [6, -7, 10, 1]\n",
    "final_list = []\n",
    "for i in range(len(list1)):\n",
    "    final_list.append([list1[i], list2[i], list3[i]])\n",
    "print (final_list)\n",
    "final_list1 = sorted(final_list, key = lambda lst:lst[-1])\n",
    "print (final_list1)\n",
    "print (final_list)\n",
    "final_list.sort(key = lambda arr: arr[-1])\n",
    "print (final_list)"
   ]
  },
  {
   "cell_type": "markdown",
   "id": "ee0bfc54",
   "metadata": {},
   "source": [
    "## **Class Assignment:**"
   ]
  },
  {
   "cell_type": "code",
   "execution_count": 67,
   "id": "b5babb39",
   "metadata": {},
   "outputs": [
    {
     "name": "stdout",
     "output_type": "stream",
     "text": [
      "Please enter the number of numbers: 5\n",
      "For i = 0 term = 4...\n",
      "For i = 1 term = 7...\n",
      "For i = 2 term = 4...\n",
      "For i = 3 term = 7...\n",
      "For i = 4 term = 4...\n",
      "So for n = 5 total = 26...\n"
     ]
    }
   ],
   "source": [
    "# total    = 4 + 7 + 4 + 7 + 4 + 7 + ... n terms\n",
    "# place No.  0   1   2   3   4   5   \n",
    "n = int(input(\"Please enter the number of numbers: \"))\n",
    "term = 4\n",
    "total = 0\n",
    "for i in range(n):\n",
    "    total = total + term\n",
    "    print (f\"For i = {i} term = {term}...\")\n",
    "    term = term + ((-1) ** i) * 3\n",
    "    # term = term ^ 3\n",
    "    # term = 28 // term\n",
    "    # term = 11 - term\n",
    "    # term = 7 if (i % 2 == 0) else 4\n",
    "    # term = 4 if (term == 7) else 7\n",
    "print (f\"So for n = {n} total = {total}...\")"
   ]
  },
  {
   "cell_type": "markdown",
   "id": "5c95d475",
   "metadata": {},
   "source": [
    "## **List Comprehension**"
   ]
  },
  {
   "cell_type": "markdown",
   "id": "a5538631",
   "metadata": {},
   "source": [
    "> List Comprehension is a complete substitute to for loops, lambda function\n",
    "as well as the functions map(), filter() and reduce()"
   ]
  },
  {
   "cell_type": "code",
   "execution_count": 68,
   "id": "74dcfeb4",
   "metadata": {},
   "outputs": [
    {
     "name": "stdout",
     "output_type": "stream",
     "text": [
      "[0, 1, 4, 9, 16, 25, 36, 49, 64, 81]\n",
      "[0, 1, 4, 9, 16, 25, 36, 49, 64, 81]\n"
     ]
    }
   ],
   "source": [
    "# How to replace for loop in creation of a list\n",
    "list1 = []\n",
    "for x in range(10):\n",
    "    list1.append(x ** 2)\n",
    "print (list1)\n",
    "\n",
    "# list comprehension\n",
    "list1 = [x ** 2 for x in range(10)]\n",
    "print (list1)"
   ]
  },
  {
   "cell_type": "code",
   "execution_count": 69,
   "id": "ec484067",
   "metadata": {},
   "outputs": [
    {
     "name": "stdout",
     "output_type": "stream",
     "text": [
      "[0, 2, 4, 6, 8, 10, 12, 14, 16, 18]\n",
      "[0, 2, 4, 6, 8, 10, 12, 14, 16, 18]\n"
     ]
    }
   ],
   "source": [
    "list1 = []\n",
    "for x in range(10):\n",
    "    list1.append(2 * x)\n",
    "print (list1)\n",
    "\n",
    "# list comprehension\n",
    "list1 = [2 * x for x in range(10)]\n",
    "print (list1)"
   ]
  },
  {
   "cell_type": "code",
   "execution_count": 72,
   "id": "ccd25e05",
   "metadata": {},
   "outputs": [
    {
     "name": "stdout",
     "output_type": "stream",
     "text": [
      "[22, 44, 66]\n",
      "[22, 44, 66]\n"
     ]
    }
   ],
   "source": [
    "list1 = [11, 22, 33, 44, 55, 66]\n",
    "list2 = []\n",
    "for x in list1:\n",
    "    if (x % 2 == 0):\n",
    "        list2.append(x)\n",
    "print (list2)\n",
    "\n",
    "# list comprehension\n",
    "list2 = [x for x in list1 if (x % 2 == 0)]\n",
    "print (list2)"
   ]
  },
  {
   "cell_type": "code",
   "execution_count": 74,
   "id": "7d4fd91c",
   "metadata": {},
   "outputs": [
    {
     "name": "stdout",
     "output_type": "stream",
     "text": [
      "[66]\n",
      "[66]\n",
      "[66]\n"
     ]
    }
   ],
   "source": [
    "list1 = [11, 22, 33, 44, 55, 66, 77, 88, 99, 110]\n",
    "list2 = []\n",
    "for x in list1:\n",
    "    if (x % 2 == 0):\n",
    "        if (x % 3 == 0):\n",
    "            list2.append(x)\n",
    "print (list2)\n",
    "\n",
    "# list comprehension with multiple if conditions\n",
    "list2 = [x for x in list1 if x % 2 == 0 if x % 3 == 0]\n",
    "print (list2)\n",
    "list2 = [x for x in list1 if x % 2 == 0 and x % 3 == 0]\n",
    "print (list2)"
   ]
  },
  {
   "cell_type": "code",
   "execution_count": 77,
   "id": "ab031d7a",
   "metadata": {},
   "outputs": [
    {
     "name": "stdout",
     "output_type": "stream",
     "text": [
      "[511, 522, 533, 544, 155, 166, 177, 188]\n",
      "[511, 522, 533, 544, 155, 166, 177, 188]\n"
     ]
    }
   ],
   "source": [
    "list1 = [11, 22, 33, 44, 55, 66, 77, 88]\n",
    "list2 = []\n",
    "for x in list1:\n",
    "    if (x > 44):\n",
    "        list2.append(x + 100)\n",
    "    else:\n",
    "        list2.append(x + 500)\n",
    "print (list2)\n",
    "\n",
    "# list comprehension with if-else condition\n",
    "list2 = [x + 100 if (x > 44) else x + 500 for x in list1]\n",
    "print (list2)"
   ]
  },
  {
   "cell_type": "code",
   "execution_count": null,
   "id": "df1ca13a",
   "metadata": {},
   "outputs": [],
   "source": []
  },
  {
   "cell_type": "code",
   "execution_count": null,
   "id": "fdd1a123",
   "metadata": {},
   "outputs": [],
   "source": []
  },
  {
   "cell_type": "code",
   "execution_count": null,
   "id": "a66c7efc",
   "metadata": {},
   "outputs": [],
   "source": []
  },
  {
   "cell_type": "code",
   "execution_count": null,
   "id": "762aee2d",
   "metadata": {},
   "outputs": [],
   "source": []
  }
 ],
 "metadata": {
  "kernelspec": {
   "display_name": "Python 3 (ipykernel)",
   "language": "python",
   "name": "python3"
  },
  "language_info": {
   "codemirror_mode": {
    "name": "ipython",
    "version": 3
   },
   "file_extension": ".py",
   "mimetype": "text/x-python",
   "name": "python",
   "nbconvert_exporter": "python",
   "pygments_lexer": "ipython3",
   "version": "3.10.9"
  }
 },
 "nbformat": 4,
 "nbformat_minor": 5
}
