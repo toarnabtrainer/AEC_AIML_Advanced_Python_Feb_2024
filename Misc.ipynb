{
 "cells": [
  {
   "cell_type": "markdown",
   "id": "3e067d6b",
   "metadata": {},
   "source": [
    "## **Python map() function**"
   ]
  },
  {
   "cell_type": "code",
   "execution_count": null,
   "id": "64ea0909",
   "metadata": {},
   "outputs": [],
   "source": []
  },
  {
   "cell_type": "markdown",
   "id": "a2283175",
   "metadata": {},
   "source": [
    "> The map() function executes a specific function for each item in an iterable. The item is sent to the function as a parameter.<br>\n",
    "> **Syntax**: map(function, iterables)"
   ]
  },
  {
   "cell_type": "code",
   "execution_count": 4,
   "id": "ead0979c",
   "metadata": {},
   "outputs": [
    {
     "name": "stdout",
     "output_type": "stream",
     "text": [
      "['Sunday', 'Tuesday', 'Thursday', 'Saturday']\n",
      "<map object at 0x000001F2FE07D240>\n",
      "[6, 7, 8, 8]\n"
     ]
    }
   ],
   "source": [
    "def myfunct(mystr):\n",
    "    return len(mystr)\n",
    "\n",
    "list1 = ['Sunday', 'Tuesday', 'Thursday', 'Saturday']\n",
    "output = map(myfunct, list1)\n",
    "print (list1)\n",
    "print (output)\n",
    "print (list(output))"
   ]
  },
  {
   "cell_type": "code",
   "execution_count": 5,
   "id": "2615bb1a",
   "metadata": {},
   "outputs": [
    {
     "name": "stdout",
     "output_type": "stream",
     "text": [
      "<map object at 0x000001F2FC7A4550>\n",
      "['Monday', 'Tuesday', 'Wednesday', 'Saturday']\n"
     ]
    }
   ],
   "source": [
    "def myfunct(var1, var2):\n",
    "    return (var1 + var2)\n",
    "list1 = ['Mond', 'Tue', 'Wedne', 'Saturd']\n",
    "list2 = ['ay', 'sday', 'sday', 'ay']\n",
    "output = map(myfunct, list1, list2)\n",
    "print (output)\n",
    "print (list(output))"
   ]
  },
  {
   "cell_type": "code",
   "execution_count": 8,
   "id": "01c5f0ed",
   "metadata": {},
   "outputs": [
    {
     "name": "stdout",
     "output_type": "stream",
     "text": [
      "<map object at 0x000001F2FC7A44C0>\n",
      "[1011, 2022, 6066, 3033]\n"
     ]
    }
   ],
   "source": [
    "def myfunct(var1, var2):\n",
    "    return (var1 + var2)\n",
    "list1 = [1000, 2000, 6000, 3000]\n",
    "list2 = [11, 22, 66, 33, 44]\n",
    "output = map(myfunct, list1, list2)\n",
    "print (output)\n",
    "print (list(output))"
   ]
  },
  {
   "cell_type": "code",
   "execution_count": 24,
   "id": "07fda485",
   "metadata": {},
   "outputs": [
    {
     "name": "stdout",
     "output_type": "stream",
     "text": [
      "Please enter series of numbers: 11 33 22 44 55 88 77\n",
      "['11', '33', '22', '44', '55', '88', '77']\n",
      "<map object at 0x000001F2FBEDBA60>\n",
      "[11, 33, 22, 44, 55, 88, 77]\n"
     ]
    }
   ],
   "source": [
    "list1 = input(\"Please enter series of numbers: \").split()\n",
    "print (list1)\n",
    "output = map(int, list1)\n",
    "print (output)\n",
    "print (list(output))"
   ]
  },
  {
   "cell_type": "code",
   "execution_count": 23,
   "id": "b38a3794",
   "metadata": {},
   "outputs": [
    {
     "name": "stdout",
     "output_type": "stream",
     "text": [
      "Please enter series of numbers: 11 33 22 44 55 88 77\n",
      "[11, 33, 22, 44, 55, 88, 77]\n"
     ]
    }
   ],
   "source": [
    "output = list(map(int, input(\"Please enter series of numbers: \").split())) # input: [11 33 22 44 55 88 77]\n",
    "print (output)   # [11, 33, 22, 44, 55, 88, 77]"
   ]
  },
  {
   "cell_type": "markdown",
   "id": "192e2ecc",
   "metadata": {},
   "source": [
    "## **Python filter() function**"
   ]
  },
  {
   "cell_type": "markdown",
   "id": "d4dc36ad",
   "metadata": {},
   "source": [
    "> The filter() function returns an iterator where the items are filtered through a function\n",
    "to test if the item is accepted or not.<br>\n",
    "**Syntax:** filter(function, iterable)"
   ]
  },
  {
   "cell_type": "code",
   "execution_count": 26,
   "id": "05b50c4a",
   "metadata": {},
   "outputs": [
    {
     "name": "stdout",
     "output_type": "stream",
     "text": [
      "[5, 12, 17, 19, 34, 20, 4]\n",
      "<filter object at 0x000001F2FDAB1540>\n",
      "[19, 34, 20]\n"
     ]
    }
   ],
   "source": [
    "def myfunct(value):\n",
    "    if (value < 18): return False\n",
    "    else: return True\n",
    "    \n",
    "ages = [5, 12, 17, 19, 34, 20, 4]\n",
    "adults = filter(myfunct, ages)\n",
    "print (ages)\n",
    "print (adults)\n",
    "print (list(adults))"
   ]
  },
  {
   "cell_type": "code",
   "execution_count": 27,
   "id": "48a8b602",
   "metadata": {},
   "outputs": [
    {
     "name": "stdout",
     "output_type": "stream",
     "text": [
      "[2000, 2024, 2020]\n"
     ]
    }
   ],
   "source": [
    "def myfunct(year_value):\n",
    "    if (year_value % 400 == 0): return True\n",
    "    if (year_value % 4 == 0 and year_value % 100 != 0): return True\n",
    "    return False\n",
    "\n",
    "print (list(filter(myfunct, [1800, 2000, 1900, 2024, 2020])))"
   ]
  },
  {
   "cell_type": "code",
   "execution_count": 29,
   "id": "403d3fd7",
   "metadata": {},
   "outputs": [
    {
     "name": "stdout",
     "output_type": "stream",
     "text": [
      "[2000, 2024, 2020]\n"
     ]
    }
   ],
   "source": [
    "def myfunct(year):\n",
    "    return True if (year % 400 == 0 or (year % 4 == 0 and year % 100 != 0)) else False\n",
    "\n",
    "print (list(filter(myfunct, [1800, 2000, 1900, 2024, 2020])))"
   ]
  },
  {
   "cell_type": "code",
   "execution_count": null,
   "id": "23ed5ee5",
   "metadata": {},
   "outputs": [],
   "source": []
  },
  {
   "cell_type": "code",
   "execution_count": null,
   "id": "abde8c86",
   "metadata": {},
   "outputs": [],
   "source": []
  },
  {
   "cell_type": "code",
   "execution_count": null,
   "id": "01bd7018",
   "metadata": {},
   "outputs": [],
   "source": []
  },
  {
   "cell_type": "code",
   "execution_count": null,
   "id": "8dea721e",
   "metadata": {},
   "outputs": [],
   "source": []
  },
  {
   "cell_type": "code",
   "execution_count": null,
   "id": "5349f147",
   "metadata": {},
   "outputs": [],
   "source": []
  },
  {
   "cell_type": "code",
   "execution_count": null,
   "id": "858efacd",
   "metadata": {},
   "outputs": [],
   "source": []
  },
  {
   "cell_type": "code",
   "execution_count": null,
   "id": "645e29bb",
   "metadata": {},
   "outputs": [],
   "source": []
  },
  {
   "cell_type": "code",
   "execution_count": null,
   "id": "d90b24de",
   "metadata": {},
   "outputs": [],
   "source": []
  },
  {
   "cell_type": "code",
   "execution_count": null,
   "id": "521b4e77",
   "metadata": {},
   "outputs": [],
   "source": []
  },
  {
   "cell_type": "code",
   "execution_count": null,
   "id": "ef21d1f1",
   "metadata": {},
   "outputs": [],
   "source": []
  },
  {
   "cell_type": "code",
   "execution_count": null,
   "id": "ea8e2728",
   "metadata": {},
   "outputs": [],
   "source": []
  },
  {
   "cell_type": "code",
   "execution_count": null,
   "id": "a297ea70",
   "metadata": {},
   "outputs": [],
   "source": []
  },
  {
   "cell_type": "code",
   "execution_count": null,
   "id": "be4fdfb6",
   "metadata": {},
   "outputs": [],
   "source": []
  },
  {
   "cell_type": "code",
   "execution_count": null,
   "id": "714bb0a2",
   "metadata": {},
   "outputs": [],
   "source": []
  },
  {
   "cell_type": "code",
   "execution_count": null,
   "id": "ff2fdcc5",
   "metadata": {},
   "outputs": [],
   "source": []
  }
 ],
 "metadata": {
  "kernelspec": {
   "display_name": "Python 3 (ipykernel)",
   "language": "python",
   "name": "python3"
  },
  "language_info": {
   "codemirror_mode": {
    "name": "ipython",
    "version": 3
   },
   "file_extension": ".py",
   "mimetype": "text/x-python",
   "name": "python",
   "nbconvert_exporter": "python",
   "pygments_lexer": "ipython3",
   "version": "3.10.9"
  }
 },
 "nbformat": 4,
 "nbformat_minor": 5
}
