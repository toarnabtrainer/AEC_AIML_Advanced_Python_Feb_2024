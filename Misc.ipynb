{
 "cells": [
  {
   "cell_type": "markdown",
   "id": "80edbd14",
   "metadata": {},
   "source": [
    "## **Python map() function**"
   ]
  },
  {
   "cell_type": "markdown",
   "id": "bba4c4d9",
   "metadata": {},
   "source": [
    "> The map() function executes a specific function for each item in an iterable. The item is sent to the function as a parameter.<br>\n",
    "> **Syntax**: map(function, iterables)"
   ]
  },
  {
   "cell_type": "code",
   "execution_count": 4,
   "id": "cf04ec0d",
   "metadata": {},
   "outputs": [
    {
     "name": "stdout",
     "output_type": "stream",
     "text": [
      "['Sunday', 'Tuesday', 'Thursday', 'Saturday']\n",
      "<map object at 0x000001F2FE07D240>\n",
      "[6, 7, 8, 8]\n"
     ]
    }
   ],
   "source": [
    "def myfunct(mystr):\n",
    "    return len(mystr)\n",
    "\n",
    "list1 = ['Sunday', 'Tuesday', 'Thursday', 'Saturday']\n",
    "output = map(myfunct, list1)\n",
    "print (list1)\n",
    "print (output)\n",
    "print (list(output))"
   ]
  },
  {
   "cell_type": "code",
   "execution_count": 5,
   "id": "4c892f2d",
   "metadata": {},
   "outputs": [
    {
     "name": "stdout",
     "output_type": "stream",
     "text": [
      "<map object at 0x000001F2FC7A4550>\n",
      "['Monday', 'Tuesday', 'Wednesday', 'Saturday']\n"
     ]
    }
   ],
   "source": [
    "def myfunct(var1, var2):\n",
    "    return (var1 + var2)\n",
    "list1 = ['Mond', 'Tue', 'Wedne', 'Saturd']\n",
    "list2 = ['ay', 'sday', 'sday', 'ay']\n",
    "output = map(myfunct, list1, list2)\n",
    "print (output)\n",
    "print (list(output))"
   ]
  },
  {
   "cell_type": "code",
   "execution_count": 8,
   "id": "efdfb4f4",
   "metadata": {},
   "outputs": [
    {
     "name": "stdout",
     "output_type": "stream",
     "text": [
      "<map object at 0x000001F2FC7A44C0>\n",
      "[1011, 2022, 6066, 3033]\n"
     ]
    }
   ],
   "source": [
    "def myfunct(var1, var2):\n",
    "    return (var1 + var2)\n",
    "list1 = [1000, 2000, 6000, 3000]\n",
    "list2 = [11, 22, 66, 33, 44]\n",
    "output = map(myfunct, list1, list2)\n",
    "print (output)\n",
    "print (list(output))"
   ]
  },
  {
   "cell_type": "code",
   "execution_count": 24,
   "id": "6cc147d9",
   "metadata": {},
   "outputs": [
    {
     "name": "stdout",
     "output_type": "stream",
     "text": [
      "Please enter series of numbers: 11 33 22 44 55 88 77\n",
      "['11', '33', '22', '44', '55', '88', '77']\n",
      "<map object at 0x000001F2FBEDBA60>\n",
      "[11, 33, 22, 44, 55, 88, 77]\n"
     ]
    }
   ],
   "source": [
    "list1 = input(\"Please enter series of numbers: \").split()\n",
    "print (list1)\n",
    "output = map(int, list1)\n",
    "print (output)\n",
    "print (list(output))"
   ]
  },
  {
   "cell_type": "code",
   "execution_count": 23,
   "id": "34588af0",
   "metadata": {},
   "outputs": [
    {
     "name": "stdout",
     "output_type": "stream",
     "text": [
      "Please enter series of numbers: 11 33 22 44 55 88 77\n",
      "[11, 33, 22, 44, 55, 88, 77]\n"
     ]
    }
   ],
   "source": [
    "output = list(map(int, input(\"Please enter series of numbers: \").split())) # input: [11 33 22 44 55 88 77]\n",
    "print (output)   # [11, 33, 22, 44, 55, 88, 77]"
   ]
  },
  {
   "cell_type": "markdown",
   "id": "dd2db9f1",
   "metadata": {},
   "source": [
    "## **Python filter() function**"
   ]
  },
  {
   "cell_type": "markdown",
   "id": "e0c6848c",
   "metadata": {},
   "source": [
    "> The filter() function returns an iterator where the items are filtered through a function\n",
    "to test if the item is accepted or not.<br>\n",
    "**Syntax:** filter(function, iterable)"
   ]
  },
  {
   "cell_type": "code",
   "execution_count": 26,
   "id": "37351a57",
   "metadata": {},
   "outputs": [
    {
     "name": "stdout",
     "output_type": "stream",
     "text": [
      "[5, 12, 17, 19, 34, 20, 4]\n",
      "<filter object at 0x000001F2FDAB1540>\n",
      "[19, 34, 20]\n"
     ]
    }
   ],
   "source": [
    "def myfunct(value):\n",
    "    if (value < 18): return False\n",
    "    else: return True\n",
    "    \n",
    "ages = [5, 12, 17, 19, 34, 20, 4]\n",
    "adults = filter(myfunct, ages)\n",
    "print (ages)\n",
    "print (adults)\n",
    "print (list(adults))"
   ]
  },
  {
   "cell_type": "code",
   "execution_count": 27,
   "id": "9fd23581",
   "metadata": {},
   "outputs": [
    {
     "name": "stdout",
     "output_type": "stream",
     "text": [
      "[2000, 2024, 2020]\n"
     ]
    }
   ],
   "source": [
    "def myfunct(year_value):\n",
    "    if (year_value % 400 == 0): return True\n",
    "    if (year_value % 4 == 0 and year_value % 100 != 0): return True\n",
    "    return False\n",
    "\n",
    "print (list(filter(myfunct, [1800, 2000, 1900, 2024, 2020])))"
   ]
  },
  {
   "cell_type": "code",
   "execution_count": 29,
   "id": "a30febdf",
   "metadata": {},
   "outputs": [
    {
     "name": "stdout",
     "output_type": "stream",
     "text": [
      "[2000, 2024, 2020]\n"
     ]
    }
   ],
   "source": [
    "def myfunct(year):\n",
    "    return True if (year % 400 == 0 or (year % 4 == 0 and year % 100 != 0)) else False\n",
    "\n",
    "print (list(filter(myfunct, [1800, 2000, 1900, 2024, 2020])))"
   ]
  },
  {
   "cell_type": "markdown",
   "id": "1f020abd",
   "metadata": {},
   "source": [
    "## **Python reduce() function**"
   ]
  },
  {
   "cell_type": "markdown",
   "id": "a795994c",
   "metadata": {},
   "source": [
    "> The reduce() function applies a function of two arguments cumulatively\n",
    "to the elements of an iterable, optionally starting with an initial argument <br>\n",
    "**Syntax:** reduce(funct, iterable [, initial])"
   ]
  },
  {
   "cell_type": "code",
   "execution_count": 32,
   "id": "30bce550",
   "metadata": {},
   "outputs": [
    {
     "name": "stdout",
     "output_type": "stream",
     "text": [
      "5000 100\n",
      "5100 200\n",
      "5300 300\n",
      "5600 500\n",
      "6100 400\n",
      "6500\n"
     ]
    }
   ],
   "source": [
    "from functools import reduce\n",
    "def cumulative_sum(first, second):\n",
    "    print (first, second)\n",
    "    return first + second\n",
    "\n",
    "numbers = [100, 200, 300, 500, 400]\n",
    "result = reduce(cumulative_sum, numbers, 5000)\n",
    "print (result)"
   ]
  },
  {
   "cell_type": "code",
   "execution_count": 35,
   "id": "10059a51",
   "metadata": {},
   "outputs": [
    {
     "name": "stdout",
     "output_type": "stream",
     "text": [
      "1200\n"
     ]
    }
   ],
   "source": [
    "from functools import reduce\n",
    "def max_num(first, second):\n",
    "    return first if (first > second) else second\n",
    "\n",
    "numbers = [100, 1200, 300, 500, 400]\n",
    "result = reduce(max_num, numbers)\n",
    "print (result)"
   ]
  },
  {
   "cell_type": "markdown",
   "id": "4bdadd0c",
   "metadata": {},
   "source": [
    "## **zip() function**"
   ]
  },
  {
   "cell_type": "code",
   "execution_count": 37,
   "id": "54a502cb",
   "metadata": {},
   "outputs": [
    {
     "name": "stdout",
     "output_type": "stream",
     "text": [
      "<zip object at 0x000001F2FD841F40>\n",
      "[('apple', 400), ('banana', 500), ('pineapple', 200), ('lime', 350)]\n",
      "(('apple', 400), ('banana', 500), ('pineapple', 200), ('lime', 350))\n",
      "{'apple': 400, 'banana': 500, 'pineapple': 200, 'lime': 350}\n"
     ]
    }
   ],
   "source": [
    "fruits = ['apple', 'banana', 'pineapple', 'lime']\n",
    "prices = [400, 500, 200, 350, 900, 120, 1000]\n",
    "print (zip(fruits, prices))\n",
    "print (list(zip(fruits, prices)))\n",
    "print (tuple(zip(fruits, prices)))\n",
    "print (dict(zip(fruits, prices)))"
   ]
  },
  {
   "cell_type": "code",
   "execution_count": 43,
   "id": "86c8f219",
   "metadata": {},
   "outputs": [
    {
     "name": "stdout",
     "output_type": "stream",
     "text": [
      "<zip object at 0x000001F2FEB75B80>\n",
      "[('apple', 400, 10), ('banana', 500, 30), ('pineapple', 200, 20), ('lime', 350, 44)]\n",
      "(('apple', 400, 10), ('banana', 500, 30), ('pineapple', 200, 20), ('lime', 350, 44))\n",
      "{'apple': (400, 10), 'banana': (500, 30), 'pineapple': (200, 20), 'lime': (350, 44)}\n",
      "{'apple': (400, 10), 'banana': (500, 30), 'pineapple': (200, 20), 'lime': (350, 44)}\n",
      "{'apple': (400, 10), 'banana': (500, 30), 'pineapple': (200, 20), 'lime': (350, 44)}\n"
     ]
    }
   ],
   "source": [
    "fruits = ['apple', 'banana', 'pineapple', 'lime']\n",
    "prices = [400, 500, 200, 350, 900, 120, 1000]\n",
    "weights = [10, 30, 20, 44, 33]\n",
    "print (zip(fruits, prices, weights))\n",
    "print (list(zip(fruits, prices, weights)))\n",
    "print (tuple(zip(fruits, prices, weights)))\n",
    "# print (dict(zip(fruits, prices, weights)))\n",
    "print (dict(zip(fruits, tuple(zip(prices, weights)))))\n",
    "print (dict(zip(fruits, zip(prices, weights))))\n",
    "print (dict(zip(fruits, list(zip(prices, weights)))))"
   ]
  },
  {
   "cell_type": "markdown",
   "id": "cf6e9658",
   "metadata": {},
   "source": [
    "## **cycle() function**"
   ]
  },
  {
   "cell_type": "code",
   "execution_count": 46,
   "id": "18c0c9af",
   "metadata": {},
   "outputs": [
    {
     "name": "stdout",
     "output_type": "stream",
     "text": [
      "(100, 34)\n",
      "University\n",
      "43.2\n",
      "[True, False]\n",
      "(100, 34)\n",
      "University\n"
     ]
    }
   ],
   "source": [
    "import itertools\n",
    "list1 = [(100, 34), \"University\", 43.2, [True, False]]\n",
    "result = itertools.cycle(list1)\n",
    "print (next(result))\n",
    "print (next(result))\n",
    "print (next(result))\n",
    "print (next(result))\n",
    "print (next(result))\n",
    "print (next(result))"
   ]
  },
  {
   "cell_type": "code",
   "execution_count": 49,
   "id": "1f1e9c05",
   "metadata": {},
   "outputs": [
    {
     "name": "stdout",
     "output_type": "stream",
     "text": [
      "(100, 34)\n",
      "University\n",
      "43.2\n",
      "[True, False]\n",
      "(100, 34)\n",
      "University\n"
     ]
    }
   ],
   "source": [
    "from itertools import cycle\n",
    "list1 = [(100, 34), \"University\", 43.2, [True, False]]\n",
    "result = cycle(list1)\n",
    "print (next(result))\n",
    "print (next(result))\n",
    "print (next(result))\n",
    "print (next(result))\n",
    "print (next(result))\n",
    "print (next(result))"
   ]
  },
  {
   "cell_type": "markdown",
   "id": "2c5b0e6c",
   "metadata": {},
   "source": [
    "## **Cartesian Product of list elements**"
   ]
  },
  {
   "cell_type": "code",
   "execution_count": 50,
   "id": "5570a13c",
   "metadata": {},
   "outputs": [
    {
     "name": "stdout",
     "output_type": "stream",
     "text": [
      "<itertools.product object at 0x000001F2FE9F7400>\n",
      "[('Apple', 11), ('Apple', 33), ('Apple', 22), ('Lemon', 11), ('Lemon', 33), ('Lemon', 22)]\n"
     ]
    }
   ],
   "source": [
    "from itertools import product\n",
    "list1 = ['Apple', 'Lemon']\n",
    "list2 = [11, 33, 22]\n",
    "result = product(list1, list2)\n",
    "print (result)\n",
    "print (list(result))"
   ]
  },
  {
   "cell_type": "markdown",
   "id": "a38ee312",
   "metadata": {},
   "source": [
    "## **bisect_left and bisect_right**"
   ]
  },
  {
   "cell_type": "code",
   "execution_count": 52,
   "id": "c09d17b5",
   "metadata": {},
   "outputs": [
    {
     "name": "stdout",
     "output_type": "stream",
     "text": [
      "1 1\n",
      "6 6\n",
      "3 3\n",
      "3 4\n"
     ]
    }
   ],
   "source": [
    "from bisect import bisect_left\n",
    "from bisect import bisect_right\n",
    "list1 = [11, 22, 33, 44, 55, 66]\n",
    "print (bisect_left(list1, 15), bisect_right(list1, 15))\n",
    "print (bisect_left(list1, 75), bisect_right(list1, 75))\n",
    "print (bisect_left(list1, 35), bisect_right(list1, 35))\n",
    "print (bisect_left(list1, 44), bisect_right(list1, 44))"
   ]
  },
  {
   "cell_type": "markdown",
   "id": "e942dc7d",
   "metadata": {},
   "source": [
    "## **Sorting of a Matrix**"
   ]
  },
  {
   "cell_type": "code",
   "execution_count": 58,
   "id": "02308cd9",
   "metadata": {},
   "outputs": [
    {
     "name": "stdout",
     "output_type": "stream",
     "text": [
      "[[10, 14, 6], [2, -22, -7], [-3, 8, 10], [40, -10, 1]]\n",
      "[[2, -22, -7], [40, -10, 1], [10, 14, 6], [-3, 8, 10]]\n",
      "[[10, 14, 6], [2, -22, -7], [-3, 8, 10], [40, -10, 1]]\n",
      "[[2, -22, -7], [40, -10, 1], [10, 14, 6], [-3, 8, 10]]\n"
     ]
    }
   ],
   "source": [
    "list1 = [10, 2, -3, 40]\n",
    "list2 = [14, -22, 8, -10]\n",
    "list3 = [6, -7, 10, 1]\n",
    "final_list = []\n",
    "for i in range(len(list1)):\n",
    "    final_list.append([list1[i], list2[i], list3[i]])\n",
    "print (final_list)\n",
    "final_list1 = sorted(final_list, key = lambda lst:lst[-1])\n",
    "print (final_list1)\n",
    "print (final_list)\n",
    "final_list.sort(key = lambda arr: arr[-1])\n",
    "print (final_list)"
   ]
  },
  {
   "cell_type": "markdown",
   "id": "56885867",
   "metadata": {},
   "source": [
    "## **Class Assignment:**"
   ]
  },
  {
   "cell_type": "code",
   "execution_count": 67,
   "id": "22ad9285",
   "metadata": {},
   "outputs": [
    {
     "name": "stdout",
     "output_type": "stream",
     "text": [
      "Please enter the number of numbers: 5\n",
      "For i = 0 term = 4...\n",
      "For i = 1 term = 7...\n",
      "For i = 2 term = 4...\n",
      "For i = 3 term = 7...\n",
      "For i = 4 term = 4...\n",
      "So for n = 5 total = 26...\n"
     ]
    }
   ],
   "source": [
    "# total    = 4 + 7 + 4 + 7 + 4 + 7 + ... n terms\n",
    "# place No.  0   1   2   3   4   5   \n",
    "n = int(input(\"Please enter the number of numbers: \"))\n",
    "term = 4\n",
    "total = 0\n",
    "for i in range(n):\n",
    "    total = total + term\n",
    "    print (f\"For i = {i} term = {term}...\")\n",
    "    term = term + ((-1) ** i) * 3\n",
    "    # term = term ^ 3\n",
    "    # term = 28 // term\n",
    "    # term = 11 - term\n",
    "    # term = 7 if (i % 2 == 0) else 4\n",
    "    # term = 4 if (term == 7) else 7\n",
    "print (f\"So for n = {n} total = {total}...\")"
   ]
  },
  {
   "cell_type": "markdown",
   "id": "aca1aa66",
   "metadata": {},
   "source": [
    "## **List Comprehension**"
   ]
  },
  {
   "cell_type": "markdown",
   "id": "81c077e9",
   "metadata": {},
   "source": [
    "> List Comprehension is a complete substitute to for loops, lambda function\n",
    "as well as the functions map(), filter() and reduce()"
   ]
  },
  {
   "cell_type": "code",
   "execution_count": 68,
   "id": "103284b0",
   "metadata": {},
   "outputs": [
    {
     "name": "stdout",
     "output_type": "stream",
     "text": [
      "[0, 1, 4, 9, 16, 25, 36, 49, 64, 81]\n",
      "[0, 1, 4, 9, 16, 25, 36, 49, 64, 81]\n"
     ]
    }
   ],
   "source": [
    "# How to replace for loop in creation of a list\n",
    "list1 = []\n",
    "for x in range(10):\n",
    "    list1.append(x ** 2)\n",
    "print (list1)\n",
    "\n",
    "# list comprehension\n",
    "list1 = [x ** 2 for x in range(10)]\n",
    "print (list1)"
   ]
  },
  {
   "cell_type": "code",
   "execution_count": 69,
   "id": "c9acb4eb",
   "metadata": {},
   "outputs": [
    {
     "name": "stdout",
     "output_type": "stream",
     "text": [
      "[0, 2, 4, 6, 8, 10, 12, 14, 16, 18]\n",
      "[0, 2, 4, 6, 8, 10, 12, 14, 16, 18]\n"
     ]
    }
   ],
   "source": [
    "list1 = []\n",
    "for x in range(10):\n",
    "    list1.append(2 * x)\n",
    "print (list1)\n",
    "\n",
    "# list comprehension\n",
    "list1 = [2 * x for x in range(10)]\n",
    "print (list1)"
   ]
  },
  {
   "cell_type": "code",
   "execution_count": 72,
   "id": "47122fdb",
   "metadata": {},
   "outputs": [
    {
     "name": "stdout",
     "output_type": "stream",
     "text": [
      "[22, 44, 66]\n",
      "[22, 44, 66]\n"
     ]
    }
   ],
   "source": [
    "list1 = [11, 22, 33, 44, 55, 66]\n",
    "list2 = []\n",
    "for x in list1:\n",
    "    if (x % 2 == 0):\n",
    "        list2.append(x)\n",
    "print (list2)\n",
    "\n",
    "# list comprehension\n",
    "list2 = [x for x in list1 if (x % 2 == 0)]\n",
    "print (list2)"
   ]
  },
  {
   "cell_type": "code",
   "execution_count": 74,
   "id": "39bfa65e",
   "metadata": {},
   "outputs": [
    {
     "name": "stdout",
     "output_type": "stream",
     "text": [
      "[66]\n",
      "[66]\n",
      "[66]\n"
     ]
    }
   ],
   "source": [
    "list1 = [11, 22, 33, 44, 55, 66, 77, 88, 99, 110]\n",
    "list2 = []\n",
    "for x in list1:\n",
    "    if (x % 2 == 0):\n",
    "        if (x % 3 == 0):\n",
    "            list2.append(x)\n",
    "print (list2)\n",
    "\n",
    "# list comprehension with multiple if conditions\n",
    "list2 = [x for x in list1 if x % 2 == 0 if x % 3 == 0]\n",
    "print (list2)\n",
    "list2 = [x for x in list1 if x % 2 == 0 and x % 3 == 0]\n",
    "print (list2)"
   ]
  },
  {
   "cell_type": "code",
   "execution_count": 77,
   "id": "bf011d52",
   "metadata": {},
   "outputs": [
    {
     "name": "stdout",
     "output_type": "stream",
     "text": [
      "[511, 522, 533, 544, 155, 166, 177, 188]\n",
      "[511, 522, 533, 544, 155, 166, 177, 188]\n"
     ]
    }
   ],
   "source": [
    "list1 = [11, 22, 33, 44, 55, 66, 77, 88]\n",
    "list2 = []\n",
    "for x in list1:\n",
    "    if (x > 44):\n",
    "        list2.append(x + 100)\n",
    "    else:\n",
    "        list2.append(x + 500)\n",
    "print (list2)\n",
    "\n",
    "# list comprehension with if-else condition\n",
    "list2 = [x + 100 if (x > 44) else x + 500 for x in list1]\n",
    "print (list2)"
   ]
  },
  {
   "cell_type": "code",
   "execution_count": 80,
   "id": "372bf016",
   "metadata": {},
   "outputs": [
    {
     "name": "stdout",
     "output_type": "stream",
     "text": [
      "[11, 22, 33, 44, 55, 66, 77, 88, 99]\n",
      "[11, 22, 33, 44, 55, 66, 77, 88, 99]\n"
     ]
    }
   ],
   "source": [
    "list1 = [[11, 22, 33], [44, 55, 66], [77, 88, 99]]\n",
    "list2 = []\n",
    "for temp_list in list1:\n",
    "    for x in temp_list:\n",
    "        list2.append(x)\n",
    "print (list2)\n",
    "\n",
    "# list comprehension, flatten of a list of lists\n",
    "list2 = [x for temp_list in list1 for x in temp_list]\n",
    "print (list2)"
   ]
  },
  {
   "cell_type": "code",
   "execution_count": 81,
   "id": "7e29a5c4",
   "metadata": {},
   "outputs": [
    {
     "name": "stdout",
     "output_type": "stream",
     "text": [
      "[[], [0], [0, 0], [0, 0, 0]]\n",
      "[[], [0], [0, 0], [0, 0, 0]]\n"
     ]
    }
   ],
   "source": [
    "list1 = []\n",
    "for x in range(4):\n",
    "    temp_list = []\n",
    "    for y in range(x):\n",
    "        temp_list.append(0)\n",
    "    list1.append(temp_list)\n",
    "print (list1)\n",
    "\n",
    "# list comprehension, creation of a matrix\n",
    "list1 = [[0 for col in range(row)] for row in range(4)]\n",
    "print (list1)"
   ]
  },
  {
   "cell_type": "code",
   "execution_count": 83,
   "id": "8a50076b",
   "metadata": {},
   "outputs": [
    {
     "name": "stdout",
     "output_type": "stream",
     "text": [
      "[20, 40, 60, 80, 100, 120, 140]\n",
      "[20, 40, 60, 80, 100, 120, 140]\n"
     ]
    }
   ],
   "source": [
    "# how to replace map() in combination with lambda functions\n",
    "list1 = [10, 20, 30, 40, 50, 60, 70]\n",
    "list2 = list(map(lambda x: 2 * x, list1))\n",
    "print (list2)\n",
    "\n",
    "# list comprehension\n",
    "list2 = [2 * x for x in list1]\n",
    "print (list2)"
   ]
  },
  {
   "cell_type": "code",
   "execution_count": 86,
   "id": "a4d72d5d",
   "metadata": {},
   "outputs": [
    {
     "name": "stdout",
     "output_type": "stream",
     "text": [
      "[11, 33, 55, 77]\n",
      "[11, 33, 55, 77]\n"
     ]
    }
   ],
   "source": [
    "# how to replace filter() in combination with lambda functions\n",
    "list1 = [11, 22, 33, 44, 55, 66, 77, 88]\n",
    "oddnum = list(filter(lambda x: x % 2, list1))\n",
    "print (oddnum)\n",
    "\n",
    "# list comprehension with if condition\n",
    "oddnum = [x for x in list1 if x % 2 == 1]\n",
    "print (oddnum)"
   ]
  },
  {
   "cell_type": "code",
   "execution_count": 87,
   "id": "a1edabc8",
   "metadata": {},
   "outputs": [
    {
     "name": "stdout",
     "output_type": "stream",
     "text": [
      "396\n",
      "396\n"
     ]
    }
   ],
   "source": [
    "# how to replace reduce() in combination with lambda functions\n",
    "from functools import reduce\n",
    "list1 = [11, 22, 33, 44, 55, 66, 77, 88]\n",
    "result = reduce(lambda x, y: x + y, list1)\n",
    "print (result)\n",
    "\n",
    "# list comprehension\n",
    "result = sum([x for x in list1])\n",
    "print (result)"
   ]
  },
  {
   "cell_type": "code",
   "execution_count": null,
   "id": "3a325952",
   "metadata": {},
   "outputs": [],
   "source": []
  },
  {
   "cell_type": "code",
   "execution_count": null,
   "id": "f7d2f143",
   "metadata": {},
   "outputs": [],
   "source": []
  },
  {
   "cell_type": "code",
   "execution_count": null,
   "id": "05c0c6a2",
   "metadata": {},
   "outputs": [],
   "source": []
  },
  {
   "cell_type": "code",
   "execution_count": null,
   "id": "a2b76832",
   "metadata": {},
   "outputs": [],
   "source": []
  },
  {
   "cell_type": "code",
   "execution_count": null,
   "id": "bb3046a4",
   "metadata": {},
   "outputs": [],
   "source": []
  },
  {
   "cell_type": "code",
   "execution_count": null,
   "id": "b665053b",
   "metadata": {},
   "outputs": [],
   "source": []
  },
  {
   "cell_type": "code",
   "execution_count": null,
   "id": "2fa40b29",
   "metadata": {},
   "outputs": [],
   "source": []
  },
  {
   "cell_type": "code",
   "execution_count": null,
   "id": "c56ebc02",
   "metadata": {},
   "outputs": [],
   "source": []
  },
  {
   "cell_type": "code",
   "execution_count": null,
   "id": "14f079ab",
   "metadata": {},
   "outputs": [],
   "source": []
  }
 ],
 "metadata": {
  "kernelspec": {
   "display_name": "Python 3 (ipykernel)",
   "language": "python",
   "name": "python3"
  },
  "language_info": {
   "codemirror_mode": {
    "name": "ipython",
    "version": 3
   },
   "file_extension": ".py",
   "mimetype": "text/x-python",
   "name": "python",
   "nbconvert_exporter": "python",
   "pygments_lexer": "ipython3",
   "version": "3.10.9"
  }
 },
 "nbformat": 4,
 "nbformat_minor": 5
}
