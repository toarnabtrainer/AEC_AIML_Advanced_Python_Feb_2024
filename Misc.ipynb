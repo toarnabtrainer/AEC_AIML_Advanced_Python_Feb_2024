{
 "cells": [
  {
   "cell_type": "markdown",
   "id": "cf3c8d41",
   "metadata": {},
   "source": [
    "## **Python map() function**"
   ]
  },
  {
   "cell_type": "markdown",
   "id": "b08e23bc",
   "metadata": {},
   "source": [
    "> The map() function executes a specific function for each item in an iterable. The item is sent to the function as a parameter.<br>\n",
    "> **Syntax**: map(function, iterables)"
   ]
  },
  {
   "cell_type": "code",
   "execution_count": 4,
   "id": "731e9cb0",
   "metadata": {},
   "outputs": [
    {
     "name": "stdout",
     "output_type": "stream",
     "text": [
      "['Sunday', 'Tuesday', 'Thursday', 'Saturday']\n",
      "<map object at 0x000001F2FE07D240>\n",
      "[6, 7, 8, 8]\n"
     ]
    }
   ],
   "source": [
    "def myfunct(mystr):\n",
    "    return len(mystr)\n",
    "\n",
    "list1 = ['Sunday', 'Tuesday', 'Thursday', 'Saturday']\n",
    "output = map(myfunct, list1)\n",
    "print (list1)\n",
    "print (output)\n",
    "print (list(output))"
   ]
  },
  {
   "cell_type": "code",
   "execution_count": 5,
   "id": "50e53b2d",
   "metadata": {},
   "outputs": [
    {
     "name": "stdout",
     "output_type": "stream",
     "text": [
      "<map object at 0x000001F2FC7A4550>\n",
      "['Monday', 'Tuesday', 'Wednesday', 'Saturday']\n"
     ]
    }
   ],
   "source": [
    "def myfunct(var1, var2):\n",
    "    return (var1 + var2)\n",
    "list1 = ['Mond', 'Tue', 'Wedne', 'Saturd']\n",
    "list2 = ['ay', 'sday', 'sday', 'ay']\n",
    "output = map(myfunct, list1, list2)\n",
    "print (output)\n",
    "print (list(output))"
   ]
  },
  {
   "cell_type": "code",
   "execution_count": 8,
   "id": "10321080",
   "metadata": {},
   "outputs": [
    {
     "name": "stdout",
     "output_type": "stream",
     "text": [
      "<map object at 0x000001F2FC7A44C0>\n",
      "[1011, 2022, 6066, 3033]\n"
     ]
    }
   ],
   "source": [
    "def myfunct(var1, var2):\n",
    "    return (var1 + var2)\n",
    "list1 = [1000, 2000, 6000, 3000]\n",
    "list2 = [11, 22, 66, 33, 44]\n",
    "output = map(myfunct, list1, list2)\n",
    "print (output)\n",
    "print (list(output))"
   ]
  },
  {
   "cell_type": "code",
   "execution_count": 24,
   "id": "4698e81e",
   "metadata": {},
   "outputs": [
    {
     "name": "stdout",
     "output_type": "stream",
     "text": [
      "Please enter series of numbers: 11 33 22 44 55 88 77\n",
      "['11', '33', '22', '44', '55', '88', '77']\n",
      "<map object at 0x000001F2FBEDBA60>\n",
      "[11, 33, 22, 44, 55, 88, 77]\n"
     ]
    }
   ],
   "source": [
    "list1 = input(\"Please enter series of numbers: \").split()\n",
    "print (list1)\n",
    "output = map(int, list1)\n",
    "print (output)\n",
    "print (list(output))"
   ]
  },
  {
   "cell_type": "code",
   "execution_count": 23,
   "id": "dc455bc2",
   "metadata": {},
   "outputs": [
    {
     "name": "stdout",
     "output_type": "stream",
     "text": [
      "Please enter series of numbers: 11 33 22 44 55 88 77\n",
      "[11, 33, 22, 44, 55, 88, 77]\n"
     ]
    }
   ],
   "source": [
    "output = list(map(int, input(\"Please enter series of numbers: \").split())) # input: [11 33 22 44 55 88 77]\n",
    "print (output)   # [11, 33, 22, 44, 55, 88, 77]"
   ]
  },
  {
   "cell_type": "markdown",
   "id": "e7d61ea2",
   "metadata": {},
   "source": [
    "## **Python filter() function**"
   ]
  },
  {
   "cell_type": "markdown",
   "id": "ab83af7d",
   "metadata": {},
   "source": [
    "> The filter() function returns an iterator where the items are filtered through a function\n",
    "to test if the item is accepted or not.<br>\n",
    "**Syntax:** filter(function, iterable)"
   ]
  },
  {
   "cell_type": "code",
   "execution_count": 26,
   "id": "0d1c50f2",
   "metadata": {},
   "outputs": [
    {
     "name": "stdout",
     "output_type": "stream",
     "text": [
      "[5, 12, 17, 19, 34, 20, 4]\n",
      "<filter object at 0x000001F2FDAB1540>\n",
      "[19, 34, 20]\n"
     ]
    }
   ],
   "source": [
    "def myfunct(value):\n",
    "    if (value < 18): return False\n",
    "    else: return True\n",
    "    \n",
    "ages = [5, 12, 17, 19, 34, 20, 4]\n",
    "adults = filter(myfunct, ages)\n",
    "print (ages)\n",
    "print (adults)\n",
    "print (list(adults))"
   ]
  },
  {
   "cell_type": "code",
   "execution_count": 27,
   "id": "2482ce26",
   "metadata": {},
   "outputs": [
    {
     "name": "stdout",
     "output_type": "stream",
     "text": [
      "[2000, 2024, 2020]\n"
     ]
    }
   ],
   "source": [
    "def myfunct(year_value):\n",
    "    if (year_value % 400 == 0): return True\n",
    "    if (year_value % 4 == 0 and year_value % 100 != 0): return True\n",
    "    return False\n",
    "\n",
    "print (list(filter(myfunct, [1800, 2000, 1900, 2024, 2020])))"
   ]
  },
  {
   "cell_type": "code",
   "execution_count": 29,
   "id": "aa62fde4",
   "metadata": {},
   "outputs": [
    {
     "name": "stdout",
     "output_type": "stream",
     "text": [
      "[2000, 2024, 2020]\n"
     ]
    }
   ],
   "source": [
    "def myfunct(year):\n",
    "    return True if (year % 400 == 0 or (year % 4 == 0 and year % 100 != 0)) else False\n",
    "\n",
    "print (list(filter(myfunct, [1800, 2000, 1900, 2024, 2020])))"
   ]
  },
  {
   "cell_type": "markdown",
   "id": "978ec0b3",
   "metadata": {},
   "source": [
    "## **Python reduce() function**"
   ]
  },
  {
   "cell_type": "markdown",
   "id": "0a4b100e",
   "metadata": {},
   "source": [
    "> The reduce() function applies a function of two arguments cumulatively\n",
    "to the elements of an iterable, optionally starting with an initial argument <br>\n",
    "**Syntax:** reduce(funct, iterable [, initial])"
   ]
  },
  {
   "cell_type": "code",
   "execution_count": 32,
   "id": "9dadede3",
   "metadata": {},
   "outputs": [
    {
     "name": "stdout",
     "output_type": "stream",
     "text": [
      "5000 100\n",
      "5100 200\n",
      "5300 300\n",
      "5600 500\n",
      "6100 400\n",
      "6500\n"
     ]
    }
   ],
   "source": [
    "from functools import reduce\n",
    "def cumulative_sum(first, second):\n",
    "    print (first, second)\n",
    "    return first + second\n",
    "\n",
    "numbers = [100, 200, 300, 500, 400]\n",
    "result = reduce(cumulative_sum, numbers, 5000)\n",
    "print (result)"
   ]
  },
  {
   "cell_type": "code",
   "execution_count": 35,
   "id": "3cc0058a",
   "metadata": {},
   "outputs": [
    {
     "name": "stdout",
     "output_type": "stream",
     "text": [
      "1200\n"
     ]
    }
   ],
   "source": [
    "from functools import reduce\n",
    "def max_num(first, second):\n",
    "    return first if (first > second) else second\n",
    "\n",
    "numbers = [100, 1200, 300, 500, 400]\n",
    "result = reduce(max_num, numbers)\n",
    "print (result)"
   ]
  },
  {
   "cell_type": "markdown",
   "id": "a297d836",
   "metadata": {},
   "source": [
    "## **zip() function**"
   ]
  },
  {
   "cell_type": "code",
   "execution_count": 37,
   "id": "da8c3a89",
   "metadata": {},
   "outputs": [
    {
     "name": "stdout",
     "output_type": "stream",
     "text": [
      "<zip object at 0x000001F2FD841F40>\n",
      "[('apple', 400), ('banana', 500), ('pineapple', 200), ('lime', 350)]\n",
      "(('apple', 400), ('banana', 500), ('pineapple', 200), ('lime', 350))\n",
      "{'apple': 400, 'banana': 500, 'pineapple': 200, 'lime': 350}\n"
     ]
    }
   ],
   "source": [
    "fruits = ['apple', 'banana', 'pineapple', 'lime']\n",
    "prices = [400, 500, 200, 350, 900, 120, 1000]\n",
    "print (zip(fruits, prices))\n",
    "print (list(zip(fruits, prices)))\n",
    "print (tuple(zip(fruits, prices)))\n",
    "print (dict(zip(fruits, prices)))"
   ]
  },
  {
   "cell_type": "code",
   "execution_count": 43,
   "id": "00e4d478",
   "metadata": {},
   "outputs": [
    {
     "name": "stdout",
     "output_type": "stream",
     "text": [
      "<zip object at 0x000001F2FEB75B80>\n",
      "[('apple', 400, 10), ('banana', 500, 30), ('pineapple', 200, 20), ('lime', 350, 44)]\n",
      "(('apple', 400, 10), ('banana', 500, 30), ('pineapple', 200, 20), ('lime', 350, 44))\n",
      "{'apple': (400, 10), 'banana': (500, 30), 'pineapple': (200, 20), 'lime': (350, 44)}\n",
      "{'apple': (400, 10), 'banana': (500, 30), 'pineapple': (200, 20), 'lime': (350, 44)}\n",
      "{'apple': (400, 10), 'banana': (500, 30), 'pineapple': (200, 20), 'lime': (350, 44)}\n"
     ]
    }
   ],
   "source": [
    "fruits = ['apple', 'banana', 'pineapple', 'lime']\n",
    "prices = [400, 500, 200, 350, 900, 120, 1000]\n",
    "weights = [10, 30, 20, 44, 33]\n",
    "print (zip(fruits, prices, weights))\n",
    "print (list(zip(fruits, prices, weights)))\n",
    "print (tuple(zip(fruits, prices, weights)))\n",
    "# print (dict(zip(fruits, prices, weights)))\n",
    "print (dict(zip(fruits, tuple(zip(prices, weights)))))\n",
    "print (dict(zip(fruits, zip(prices, weights))))\n",
    "print (dict(zip(fruits, list(zip(prices, weights)))))"
   ]
  },
  {
   "cell_type": "markdown",
   "id": "143aa723",
   "metadata": {},
   "source": [
    "## **cycle() function**"
   ]
  },
  {
   "cell_type": "code",
   "execution_count": 46,
   "id": "cf534870",
   "metadata": {},
   "outputs": [
    {
     "name": "stdout",
     "output_type": "stream",
     "text": [
      "(100, 34)\n",
      "University\n",
      "43.2\n",
      "[True, False]\n",
      "(100, 34)\n",
      "University\n"
     ]
    }
   ],
   "source": [
    "import itertools\n",
    "list1 = [(100, 34), \"University\", 43.2, [True, False]]\n",
    "result = itertools.cycle(list1)\n",
    "print (next(result))\n",
    "print (next(result))\n",
    "print (next(result))\n",
    "print (next(result))\n",
    "print (next(result))\n",
    "print (next(result))"
   ]
  },
  {
   "cell_type": "code",
   "execution_count": 49,
   "id": "7d1c6b10",
   "metadata": {},
   "outputs": [
    {
     "name": "stdout",
     "output_type": "stream",
     "text": [
      "(100, 34)\n",
      "University\n",
      "43.2\n",
      "[True, False]\n",
      "(100, 34)\n",
      "University\n"
     ]
    }
   ],
   "source": [
    "from itertools import cycle\n",
    "list1 = [(100, 34), \"University\", 43.2, [True, False]]\n",
    "result = cycle(list1)\n",
    "print (next(result))\n",
    "print (next(result))\n",
    "print (next(result))\n",
    "print (next(result))\n",
    "print (next(result))\n",
    "print (next(result))"
   ]
  },
  {
   "cell_type": "markdown",
   "id": "ee7f7919",
   "metadata": {},
   "source": [
    "## **Cartesian Product of list elements**"
   ]
  },
  {
   "cell_type": "code",
   "execution_count": 50,
   "id": "a0da53ce",
   "metadata": {},
   "outputs": [
    {
     "name": "stdout",
     "output_type": "stream",
     "text": [
      "<itertools.product object at 0x000001F2FE9F7400>\n",
      "[('Apple', 11), ('Apple', 33), ('Apple', 22), ('Lemon', 11), ('Lemon', 33), ('Lemon', 22)]\n"
     ]
    }
   ],
   "source": [
    "from itertools import product\n",
    "list1 = ['Apple', 'Lemon']\n",
    "list2 = [11, 33, 22]\n",
    "result = product(list1, list2)\n",
    "print (result)\n",
    "print (list(result))"
   ]
  },
  {
   "cell_type": "markdown",
   "id": "85c3d8d7",
   "metadata": {},
   "source": [
    "## **bisect_left and bisect_right**"
   ]
  },
  {
   "cell_type": "code",
   "execution_count": 52,
   "id": "abf92043",
   "metadata": {},
   "outputs": [
    {
     "name": "stdout",
     "output_type": "stream",
     "text": [
      "1 1\n",
      "6 6\n",
      "3 3\n",
      "3 4\n"
     ]
    }
   ],
   "source": [
    "from bisect import bisect_left\n",
    "from bisect import bisect_right\n",
    "list1 = [11, 22, 33, 44, 55, 66]\n",
    "print (bisect_left(list1, 15), bisect_right(list1, 15))\n",
    "print (bisect_left(list1, 75), bisect_right(list1, 75))\n",
    "print (bisect_left(list1, 35), bisect_right(list1, 35))\n",
    "print (bisect_left(list1, 44), bisect_right(list1, 44))"
   ]
  },
  {
   "cell_type": "markdown",
   "id": "001bb259",
   "metadata": {},
   "source": [
    "## **Sorting of a Matrix**"
   ]
  },
  {
   "cell_type": "code",
   "execution_count": 58,
   "id": "3fdaebad",
   "metadata": {},
   "outputs": [
    {
     "name": "stdout",
     "output_type": "stream",
     "text": [
      "[[10, 14, 6], [2, -22, -7], [-3, 8, 10], [40, -10, 1]]\n",
      "[[2, -22, -7], [40, -10, 1], [10, 14, 6], [-3, 8, 10]]\n",
      "[[10, 14, 6], [2, -22, -7], [-3, 8, 10], [40, -10, 1]]\n",
      "[[2, -22, -7], [40, -10, 1], [10, 14, 6], [-3, 8, 10]]\n"
     ]
    }
   ],
   "source": [
    "list1 = [10, 2, -3, 40]\n",
    "list2 = [14, -22, 8, -10]\n",
    "list3 = [6, -7, 10, 1]\n",
    "final_list = []\n",
    "for i in range(len(list1)):\n",
    "    final_list.append([list1[i], list2[i], list3[i]])\n",
    "print (final_list)\n",
    "final_list1 = sorted(final_list, key = lambda lst:lst[-1])\n",
    "print (final_list1)\n",
    "print (final_list)\n",
    "final_list.sort(key = lambda arr: arr[-1])\n",
    "print (final_list)"
   ]
  },
  {
   "cell_type": "code",
   "execution_count": null,
   "id": "ee17f768",
   "metadata": {},
   "outputs": [],
   "source": []
  },
  {
   "cell_type": "code",
   "execution_count": null,
   "id": "37e93c51",
   "metadata": {},
   "outputs": [],
   "source": []
  },
  {
   "cell_type": "code",
   "execution_count": null,
   "id": "5e7673b5",
   "metadata": {},
   "outputs": [],
   "source": []
  },
  {
   "cell_type": "code",
   "execution_count": null,
   "id": "1bc180e9",
   "metadata": {},
   "outputs": [],
   "source": []
  },
  {
   "cell_type": "code",
   "execution_count": null,
   "id": "ac47b227",
   "metadata": {},
   "outputs": [],
   "source": []
  },
  {
   "cell_type": "code",
   "execution_count": null,
   "id": "00cfb11d",
   "metadata": {},
   "outputs": [],
   "source": []
  },
  {
   "cell_type": "code",
   "execution_count": null,
   "id": "08586849",
   "metadata": {},
   "outputs": [],
   "source": []
  }
 ],
 "metadata": {
  "kernelspec": {
   "display_name": "Python 3 (ipykernel)",
   "language": "python",
   "name": "python3"
  },
  "language_info": {
   "codemirror_mode": {
    "name": "ipython",
    "version": 3
   },
   "file_extension": ".py",
   "mimetype": "text/x-python",
   "name": "python",
   "nbconvert_exporter": "python",
   "pygments_lexer": "ipython3",
   "version": "3.10.9"
  }
 },
 "nbformat": 4,
 "nbformat_minor": 5
}
