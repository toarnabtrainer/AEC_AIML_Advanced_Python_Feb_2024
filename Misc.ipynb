{
 "cells": [
  {
   "cell_type": "markdown",
   "id": "9030456e",
   "metadata": {},
   "source": [
    "## **Python map() function**"
   ]
  },
  {
   "cell_type": "code",
   "execution_count": null,
   "id": "ffeeed92",
   "metadata": {},
   "outputs": [],
   "source": []
  },
  {
   "cell_type": "markdown",
   "id": "a42e4d9a",
   "metadata": {},
   "source": [
    "> The map() function executes a specific function for each item in an iterable. The item is sent to the function as a parameter.<br>\n",
    "> **Syntax**: map(function, iterables)"
   ]
  },
  {
   "cell_type": "code",
   "execution_count": 4,
   "id": "9c604601",
   "metadata": {},
   "outputs": [
    {
     "name": "stdout",
     "output_type": "stream",
     "text": [
      "['Sunday', 'Tuesday', 'Thursday', 'Saturday']\n",
      "<map object at 0x000001F2FE07D240>\n",
      "[6, 7, 8, 8]\n"
     ]
    }
   ],
   "source": [
    "def myfunct(mystr):\n",
    "    return len(mystr)\n",
    "\n",
    "list1 = ['Sunday', 'Tuesday', 'Thursday', 'Saturday']\n",
    "output = map(myfunct, list1)\n",
    "print (list1)\n",
    "print (output)\n",
    "print (list(output))"
   ]
  },
  {
   "cell_type": "code",
   "execution_count": 5,
   "id": "d3fd3a60",
   "metadata": {},
   "outputs": [
    {
     "name": "stdout",
     "output_type": "stream",
     "text": [
      "<map object at 0x000001F2FC7A4550>\n",
      "['Monday', 'Tuesday', 'Wednesday', 'Saturday']\n"
     ]
    }
   ],
   "source": [
    "def myfunct(var1, var2):\n",
    "    return (var1 + var2)\n",
    "list1 = ['Mond', 'Tue', 'Wedne', 'Saturd']\n",
    "list2 = ['ay', 'sday', 'sday', 'ay']\n",
    "output = map(myfunct, list1, list2)\n",
    "print (output)\n",
    "print (list(output))"
   ]
  },
  {
   "cell_type": "code",
   "execution_count": 8,
   "id": "ba267372",
   "metadata": {},
   "outputs": [
    {
     "name": "stdout",
     "output_type": "stream",
     "text": [
      "<map object at 0x000001F2FC7A44C0>\n",
      "[1011, 2022, 6066, 3033]\n"
     ]
    }
   ],
   "source": [
    "def myfunct(var1, var2):\n",
    "    return (var1 + var2)\n",
    "list1 = [1000, 2000, 6000, 3000]\n",
    "list2 = [11, 22, 66, 33, 44]\n",
    "output = map(myfunct, list1, list2)\n",
    "print (output)\n",
    "print (list(output))"
   ]
  },
  {
   "cell_type": "code",
   "execution_count": 24,
   "id": "9b2a94d5",
   "metadata": {},
   "outputs": [
    {
     "name": "stdout",
     "output_type": "stream",
     "text": [
      "Please enter series of numbers: 11 33 22 44 55 88 77\n",
      "['11', '33', '22', '44', '55', '88', '77']\n",
      "<map object at 0x000001F2FBEDBA60>\n",
      "[11, 33, 22, 44, 55, 88, 77]\n"
     ]
    }
   ],
   "source": [
    "list1 = input(\"Please enter series of numbers: \").split()\n",
    "print (list1)\n",
    "output = map(int, list1)\n",
    "print (output)\n",
    "print (list(output))"
   ]
  },
  {
   "cell_type": "code",
   "execution_count": 23,
   "id": "4b67bc50",
   "metadata": {},
   "outputs": [
    {
     "name": "stdout",
     "output_type": "stream",
     "text": [
      "Please enter series of numbers: 11 33 22 44 55 88 77\n",
      "[11, 33, 22, 44, 55, 88, 77]\n"
     ]
    }
   ],
   "source": [
    "output = list(map(int, input(\"Please enter series of numbers: \").split())) # input: [11 33 22 44 55 88 77]\n",
    "print (output)   # [11, 33, 22, 44, 55, 88, 77]"
   ]
  },
  {
   "cell_type": "code",
   "execution_count": null,
   "id": "f7b2db1a",
   "metadata": {},
   "outputs": [],
   "source": [
    "## **Pyth"
   ]
  },
  {
   "cell_type": "code",
   "execution_count": null,
   "id": "4773bc98",
   "metadata": {},
   "outputs": [],
   "source": []
  },
  {
   "cell_type": "code",
   "execution_count": null,
   "id": "74eb17d1",
   "metadata": {},
   "outputs": [],
   "source": []
  },
  {
   "cell_type": "code",
   "execution_count": null,
   "id": "653f70d7",
   "metadata": {},
   "outputs": [],
   "source": []
  },
  {
   "cell_type": "code",
   "execution_count": null,
   "id": "01c3822e",
   "metadata": {},
   "outputs": [],
   "source": []
  },
  {
   "cell_type": "code",
   "execution_count": null,
   "id": "3f5cd157",
   "metadata": {},
   "outputs": [],
   "source": []
  },
  {
   "cell_type": "code",
   "execution_count": null,
   "id": "811807d4",
   "metadata": {},
   "outputs": [],
   "source": []
  },
  {
   "cell_type": "code",
   "execution_count": null,
   "id": "ae6fb5d8",
   "metadata": {},
   "outputs": [],
   "source": []
  },
  {
   "cell_type": "code",
   "execution_count": null,
   "id": "bb383e27",
   "metadata": {},
   "outputs": [],
   "source": []
  },
  {
   "cell_type": "code",
   "execution_count": null,
   "id": "e20d50c5",
   "metadata": {},
   "outputs": [],
   "source": []
  },
  {
   "cell_type": "code",
   "execution_count": null,
   "id": "6cd12258",
   "metadata": {},
   "outputs": [],
   "source": []
  },
  {
   "cell_type": "code",
   "execution_count": null,
   "id": "50e268d9",
   "metadata": {},
   "outputs": [],
   "source": []
  },
  {
   "cell_type": "code",
   "execution_count": null,
   "id": "f9bddf84",
   "metadata": {},
   "outputs": [],
   "source": []
  },
  {
   "cell_type": "code",
   "execution_count": null,
   "id": "8098ff49",
   "metadata": {},
   "outputs": [],
   "source": []
  },
  {
   "cell_type": "code",
   "execution_count": null,
   "id": "4aa0bd44",
   "metadata": {},
   "outputs": [],
   "source": []
  },
  {
   "cell_type": "code",
   "execution_count": null,
   "id": "3ab401ab",
   "metadata": {},
   "outputs": [],
   "source": []
  },
  {
   "cell_type": "code",
   "execution_count": null,
   "id": "a34665c0",
   "metadata": {},
   "outputs": [],
   "source": []
  },
  {
   "cell_type": "code",
   "execution_count": null,
   "id": "ff19f27b",
   "metadata": {},
   "outputs": [],
   "source": []
  },
  {
   "cell_type": "code",
   "execution_count": null,
   "id": "2a2aba7f",
   "metadata": {},
   "outputs": [],
   "source": []
  },
  {
   "cell_type": "code",
   "execution_count": null,
   "id": "8b8a27c1",
   "metadata": {},
   "outputs": [],
   "source": []
  }
 ],
 "metadata": {
  "kernelspec": {
   "display_name": "Python 3 (ipykernel)",
   "language": "python",
   "name": "python3"
  },
  "language_info": {
   "codemirror_mode": {
    "name": "ipython",
    "version": 3
   },
   "file_extension": ".py",
   "mimetype": "text/x-python",
   "name": "python",
   "nbconvert_exporter": "python",
   "pygments_lexer": "ipython3",
   "version": "3.10.9"
  }
 },
 "nbformat": 4,
 "nbformat_minor": 5
}
