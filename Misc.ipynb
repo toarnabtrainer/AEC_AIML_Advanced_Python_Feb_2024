{
 "cells": [
  {
   "cell_type": "markdown",
   "id": "f9909131",
   "metadata": {},
   "source": [
    "## **Python map() function**"
   ]
  },
  {
   "cell_type": "code",
   "execution_count": null,
   "id": "646bdbfa",
   "metadata": {},
   "outputs": [],
   "source": []
  },
  {
   "cell_type": "markdown",
   "id": "2749eaf4",
   "metadata": {},
   "source": [
    "> The map() function executes a specific function for each item in an iterable. The item is sent to the function as a parameter.<br>\n",
    "> **Syntax**: map(function, iterables)"
   ]
  },
  {
   "cell_type": "code",
   "execution_count": 4,
   "id": "d463fc7d",
   "metadata": {},
   "outputs": [
    {
     "name": "stdout",
     "output_type": "stream",
     "text": [
      "['Sunday', 'Tuesday', 'Thursday', 'Saturday']\n",
      "<map object at 0x000001F2FE07D240>\n",
      "[6, 7, 8, 8]\n"
     ]
    }
   ],
   "source": [
    "def myfunct(mystr):\n",
    "    return len(mystr)\n",
    "\n",
    "list1 = ['Sunday', 'Tuesday', 'Thursday', 'Saturday']\n",
    "output = map(myfunct, list1)\n",
    "print (list1)\n",
    "print (output)\n",
    "print (list(output))"
   ]
  },
  {
   "cell_type": "code",
   "execution_count": 5,
   "id": "c42abe6e",
   "metadata": {},
   "outputs": [
    {
     "name": "stdout",
     "output_type": "stream",
     "text": [
      "<map object at 0x000001F2FC7A4550>\n",
      "['Monday', 'Tuesday', 'Wednesday', 'Saturday']\n"
     ]
    }
   ],
   "source": [
    "def myfunct(var1, var2):\n",
    "    return (var1 + var2)\n",
    "list1 = ['Mond', 'Tue', 'Wedne', 'Saturd']\n",
    "list2 = ['ay', 'sday', 'sday', 'ay']\n",
    "output = map(myfunct, list1, list2)\n",
    "print (output)\n",
    "print (list(output))"
   ]
  },
  {
   "cell_type": "code",
   "execution_count": null,
   "id": "e18acc96",
   "metadata": {},
   "outputs": [],
   "source": []
  },
  {
   "cell_type": "code",
   "execution_count": null,
   "id": "fe3ffeac",
   "metadata": {},
   "outputs": [],
   "source": []
  },
  {
   "cell_type": "code",
   "execution_count": null,
   "id": "8da0c48e",
   "metadata": {},
   "outputs": [],
   "source": []
  },
  {
   "cell_type": "code",
   "execution_count": null,
   "id": "94df697a",
   "metadata": {},
   "outputs": [],
   "source": []
  },
  {
   "cell_type": "code",
   "execution_count": null,
   "id": "9383fd68",
   "metadata": {},
   "outputs": [],
   "source": []
  },
  {
   "cell_type": "code",
   "execution_count": null,
   "id": "a7d5bb7f",
   "metadata": {},
   "outputs": [],
   "source": []
  },
  {
   "cell_type": "code",
   "execution_count": null,
   "id": "bdb74e67",
   "metadata": {},
   "outputs": [],
   "source": []
  },
  {
   "cell_type": "code",
   "execution_count": null,
   "id": "433529b7",
   "metadata": {},
   "outputs": [],
   "source": []
  },
  {
   "cell_type": "code",
   "execution_count": null,
   "id": "63ed8f0e",
   "metadata": {},
   "outputs": [],
   "source": []
  },
  {
   "cell_type": "code",
   "execution_count": null,
   "id": "7cbe1094",
   "metadata": {},
   "outputs": [],
   "source": []
  },
  {
   "cell_type": "code",
   "execution_count": null,
   "id": "afc12781",
   "metadata": {},
   "outputs": [],
   "source": []
  },
  {
   "cell_type": "code",
   "execution_count": null,
   "id": "92890c06",
   "metadata": {},
   "outputs": [],
   "source": []
  },
  {
   "cell_type": "code",
   "execution_count": null,
   "id": "8ec25c2c",
   "metadata": {},
   "outputs": [],
   "source": []
  },
  {
   "cell_type": "code",
   "execution_count": null,
   "id": "a4007352",
   "metadata": {},
   "outputs": [],
   "source": []
  },
  {
   "cell_type": "code",
   "execution_count": null,
   "id": "aab19431",
   "metadata": {},
   "outputs": [],
   "source": []
  },
  {
   "cell_type": "code",
   "execution_count": null,
   "id": "397dc523",
   "metadata": {},
   "outputs": [],
   "source": []
  },
  {
   "cell_type": "code",
   "execution_count": null,
   "id": "7d40b165",
   "metadata": {},
   "outputs": [],
   "source": []
  },
  {
   "cell_type": "code",
   "execution_count": null,
   "id": "2ef9d80e",
   "metadata": {},
   "outputs": [],
   "source": []
  },
  {
   "cell_type": "code",
   "execution_count": null,
   "id": "f09dac1f",
   "metadata": {},
   "outputs": [],
   "source": []
  },
  {
   "cell_type": "code",
   "execution_count": null,
   "id": "f738672f",
   "metadata": {},
   "outputs": [],
   "source": []
  },
  {
   "cell_type": "code",
   "execution_count": null,
   "id": "2f026946",
   "metadata": {},
   "outputs": [],
   "source": []
  },
  {
   "cell_type": "code",
   "execution_count": null,
   "id": "583338a7",
   "metadata": {},
   "outputs": [],
   "source": []
  },
  {
   "cell_type": "code",
   "execution_count": null,
   "id": "4a1d7098",
   "metadata": {},
   "outputs": [],
   "source": []
  }
 ],
 "metadata": {
  "kernelspec": {
   "display_name": "Python 3 (ipykernel)",
   "language": "python",
   "name": "python3"
  },
  "language_info": {
   "codemirror_mode": {
    "name": "ipython",
    "version": 3
   },
   "file_extension": ".py",
   "mimetype": "text/x-python",
   "name": "python",
   "nbconvert_exporter": "python",
   "pygments_lexer": "ipython3",
   "version": "3.10.9"
  }
 },
 "nbformat": 4,
 "nbformat_minor": 5
}
