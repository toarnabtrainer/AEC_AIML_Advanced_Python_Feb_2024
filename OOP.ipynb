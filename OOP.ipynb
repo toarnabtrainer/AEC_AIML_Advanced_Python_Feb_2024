{
 "cells": [
  {
   "cell_type": "markdown",
   "id": "9c7473cf",
   "metadata": {},
   "source": [
    "## **OOP with Python**"
   ]
  },
  {
   "cell_type": "markdown",
   "id": "97893c02",
   "metadata": {},
   "source": [
    "> Procedural languages lack in encapsulation, difficult to manage when code size > 10 KLOC, variables are unprotected, no automatic memory management by deleting dereferenced variables.\n",
    "\n",
    "> A class in Python can not have empty body, it must have a document statement or a pass statement."
   ]
  },
  {
   "cell_type": "code",
   "execution_count": 1,
   "id": "e2b24973",
   "metadata": {},
   "outputs": [
    {
     "name": "stdout",
     "output_type": "stream",
     "text": [
      "This is a document statement\n",
      "    describing the purpose\n",
      "    of the class\n",
      "This is a document statement\n",
      "    describing the purpose\n",
      "    of the class\n"
     ]
    }
   ],
   "source": [
    "class MyFirstClass:\n",
    "    '''This is a document statement\n",
    "    describing the purpose\n",
    "    of the class'''\n",
    "\n",
    "ob1 = MyFirstClass()\n",
    "print (ob1.__doc__)\n",
    "print (MyFirstClass.__doc__)"
   ]
  },
  {
   "cell_type": "code",
   "execution_count": 5,
   "id": "b6586be9",
   "metadata": {},
   "outputs": [],
   "source": [
    "class MyFirstClass:\n",
    "    pass    # statement place holder\n",
    "\n",
    "ob1 = MyFirstClass()"
   ]
  },
  {
   "cell_type": "code",
   "execution_count": 12,
   "id": "2ee8deeb",
   "metadata": {},
   "outputs": [
    {
     "name": "stdout",
     "output_type": "stream",
     "text": [
      "Executing the constructor method...\n",
      "self = <__main__.MyFirstClass object at 0x00000282C0E50850>\n",
      "Executing display() method...\n",
      "class variable class_var1 = 100 and 100...\n",
      "instance variable inst_var1 = 111...\n",
      "This is a document string...\n",
      "This is a document string...\n",
      "Updating class or static variable...\n",
      "Executing the constructor method...\n",
      "self = <__main__.MyFirstClass object at 0x00000282C0E502E0>\n",
      "Executing display() method...\n",
      "class variable class_var1 = 110 and 110...\n",
      "instance variable inst_var1 = 222...\n"
     ]
    }
   ],
   "source": [
    "class MyFirstClass:\n",
    "    \"\"\"This is a document string...\"\"\"\n",
    "    class_var1 = 100    # class or static variable\n",
    "    def __init__(self, data1):   # self is an object binding variable\n",
    "        print (\"Executing the constructor method...\")\n",
    "        print (f\"self = {self}\")\n",
    "        self.inst_var1 = data1   # instance variable\n",
    "    def display(self):\n",
    "        print (\"Executing display() method...\")\n",
    "        print (f\"class variable class_var1 = {MyFirstClass.class_var1} and {self.class_var1}...\")\n",
    "        print (f\"instance variable inst_var1 = {self.inst_var1}...\")\n",
    "    def update(self):\n",
    "        print (\"Updating class or static variable...\")\n",
    "        MyFirstClass.class_var1 += 10\n",
    "ob1 = MyFirstClass(111)\n",
    "ob1.display()\n",
    "print (ob1.__doc__)\n",
    "print (MyFirstClass.__doc__)\n",
    "ob1.update()\n",
    "ob2 = MyFirstClass(222)\n",
    "ob2.display()"
   ]
  },
  {
   "cell_type": "code",
   "execution_count": 26,
   "id": "6517a7fa",
   "metadata": {},
   "outputs": [
    {
     "name": "stdout",
     "output_type": "stream",
     "text": [
      "Executing the constructor method...\n",
      "self = <__main__.MyFirstClass object at 0x00000282C0E500D0>\n",
      "Destructor method is executing...\n",
      "Executing display() method...\n",
      "class variable class_var1 = 100...\n",
      "instance variable inst_var1 = 111...\n"
     ]
    }
   ],
   "source": [
    "class MyFirstClass:\n",
    "    class_var1 = 100    # class or static variable\n",
    "    def __init__(self, data1):   # self is an object binding variable\n",
    "        print (\"Executing the constructor method...\")\n",
    "        print (f\"self = {self}\")\n",
    "        self.inst_var1 = data1   # instance variable\n",
    "    def display(self):\n",
    "        print (\"Executing display() method...\")\n",
    "        print (f\"class variable class_var1 = {MyFirstClass.class_var1}...\")\n",
    "        print (f\"instance variable inst_var1 = {self.inst_var1}...\")\n",
    "    def __del__(self):\n",
    "        print (\"Destructor method is executing...\")\n",
    "ob1 = MyFirstClass(111)\n",
    "ob1.display()"
   ]
  },
  {
   "cell_type": "code",
   "execution_count": 27,
   "id": "64033a20",
   "metadata": {},
   "outputs": [
    {
     "name": "stdout",
     "output_type": "stream",
     "text": [
      "Destructor method is executing...\n",
      "Destructor method is executing...\n"
     ]
    }
   ],
   "source": [
    "del ob1\n",
    "del ob2\n",
    "del ob3"
   ]
  },
  {
   "cell_type": "code",
   "execution_count": 28,
   "id": "48fa8b34",
   "metadata": {},
   "outputs": [
    {
     "name": "stdout",
     "output_type": "stream",
     "text": [
      "Number of objects defined is 4\n"
     ]
    }
   ],
   "source": [
    "# counting the number of objects defined under the class\n",
    "class MyClass:\n",
    "    count_object = 0\n",
    "    def __init__(self):\n",
    "        MyClass.count_object += 1\n",
    "        \n",
    "ob1 = MyClass()\n",
    "ob2 = MyClass()\n",
    "ob3 = MyClass()\n",
    "ob4 = MyClass()\n",
    "print (f\"Number of objects defined is {MyClass.count_object}\")"
   ]
  },
  {
   "cell_type": "code",
   "execution_count": 32,
   "id": "33c0740a",
   "metadata": {},
   "outputs": [
    {
     "name": "stdout",
     "output_type": "stream",
     "text": [
      "Executing instance method <__main__.MyClass object at 0x00000282C0BB3CA0>\n",
      "classVar = 222, instVar = 100\n"
     ]
    }
   ],
   "source": [
    "# there are three types of methods: instance, class, static\n",
    "class MyClass:\n",
    "    classVar = 111   # class or static variable\n",
    "    # defining instance method\n",
    "    def instMethod(self):  # self is object binding variable\n",
    "        print (\"Executing instance method\", self)\n",
    "        self.instVar = 100   # instance variable\n",
    "        MyClass.classVar = 222\n",
    "        print(f\"classVar = {MyClass.classVar}, instVar = {self.instVar}\")\n",
    "ob1 = MyClass()\n",
    "ob1.instMethod()\n",
    "# MyClass.instMethod()"
   ]
  },
  {
   "cell_type": "code",
   "execution_count": 33,
   "id": "b210883d",
   "metadata": {},
   "outputs": [
    {
     "name": "stdout",
     "output_type": "stream",
     "text": [
      "Executing class method <class '__main__.MyClass'>\n",
      "classVar = 333 and 333\n",
      "Executing class method <class '__main__.MyClass'>\n",
      "classVar = 333 and 333\n"
     ]
    }
   ],
   "source": [
    "# there are three types of methods: instance, class, static\n",
    "class MyClass:\n",
    "    classVar = 111   # class or static variable\n",
    "    # defining class method\n",
    "    @classmethod    # annotation or decorator\n",
    "    def classMethod(cla):  # cla is class binding variable\n",
    "        print (\"Executing class method\", cla)\n",
    "        cla.classVar = 222   # accessing class variable\n",
    "        MyClass.classVar = 333\n",
    "        print(f\"classVar = {MyClass.classVar} and {cla.classVar}\")\n",
    "ob1 = MyClass()\n",
    "ob1.classMethod()\n",
    "MyClass.classMethod()"
   ]
  },
  {
   "cell_type": "code",
   "execution_count": 37,
   "id": "09997345",
   "metadata": {},
   "outputs": [
    {
     "name": "stdout",
     "output_type": "stream",
     "text": [
      "Executing static method\n",
      "classVar = 333\n",
      "Executing static method\n",
      "classVar = 333\n"
     ]
    }
   ],
   "source": [
    "# there are three types of methods: instance, class, static\n",
    "class MyClass:\n",
    "    classVar = 111   # class or static variable\n",
    "    # defining static method\n",
    "    @staticmethod    # annotation or decorator\n",
    "    def staticMethod():\n",
    "        print (\"Executing static method\")\n",
    "        MyClass.classVar = 333   # accessing class variable\n",
    "        print(f\"classVar = {MyClass.classVar}\")\n",
    "ob1 = MyClass()\n",
    "ob1.staticMethod()\n",
    "MyClass.staticMethod()"
   ]
  },
  {
   "cell_type": "code",
   "execution_count": 60,
   "id": "a065553c",
   "metadata": {},
   "outputs": [
    {
     "name": "stdout",
     "output_type": "stream",
     "text": [
      "False True True\n",
      "True True True\n",
      "100 111\n",
      "False True\n",
      "{'instVar1': 111}\n",
      "['__class__', '__delattr__', '__dict__', '__dir__', '__doc__', '__eq__', '__format__', '__ge__', '__getattribute__', '__gt__', '__hash__', '__init__', '__init_subclass__', '__le__', '__lt__', '__module__', '__ne__', '__new__', '__reduce__', '__reduce_ex__', '__repr__', '__setattr__', '__sizeof__', '__str__', '__subclasshook__', '__weakref__', 'classVar1', 'function1', 'function2', 'instVar1']\n"
     ]
    }
   ],
   "source": [
    "# built-in Python methods\n",
    "class MyClass1:\n",
    "    def __init__(self):\n",
    "        print (\"Hello...\")\n",
    "class MyClass2:\n",
    "    classVar1 = 100\n",
    "    def __init__(self):\n",
    "        self.instVar1 = 111\n",
    "    def function1(self):\n",
    "        print(\"instVar =\", self.instVar1)\n",
    "class MyClass3(MyClass2):\n",
    "    \"\"\"This is a document string...\"\"\"\n",
    "    def function2(self):\n",
    "        print (\"function2() is executing...\")\n",
    "    def __str__(self):\n",
    "        return \"Object is getting printed...\"\n",
    "ob1 = MyClass3()\n",
    "print (isinstance(ob1, MyClass1), isinstance(ob1, MyClass2), isinstance(ob1, MyClass3))\n",
    "print (hasattr(ob1, 'classVar1'), hasattr(ob1, 'function1'), hasattr(ob1, 'function2'))\n",
    "print (getattr(ob1, 'classVar1'), ob1.instVar1)\n",
    "print (issubclass(MyClass1, MyClass2), issubclass(MyClass3, MyClass2))\n",
    "print (vars(ob1))   # returns a dictionary of attributes of the object\n",
    "print (dir(ob1))    # returns a list of all the attributes of the object"
   ]
  },
  {
   "cell_type": "code",
   "execution_count": 55,
   "id": "639cec8b",
   "metadata": {},
   "outputs": [
    {
     "name": "stdout",
     "output_type": "stream",
     "text": [
      "This is a document string...\n",
      "__main__\n",
      "{'instVar1': 111}\n"
     ]
    }
   ],
   "source": [
    "# built in Python attributes\n",
    "print (ob1.__doc__)\n",
    "print (ob1.__module__)\n",
    "print (ob1.__dict__)"
   ]
  },
  {
   "cell_type": "code",
   "execution_count": 59,
   "id": "f1e235c4",
   "metadata": {},
   "outputs": [
    {
     "name": "stdout",
     "output_type": "stream",
     "text": [
      "Object is getting printed...\n",
      "Object is getting printed...\n"
     ]
    }
   ],
   "source": [
    "print (ob1)\n",
    "print (ob1.__str__())"
   ]
  },
  {
   "cell_type": "code",
   "execution_count": null,
   "id": "86ad2c72",
   "metadata": {},
   "outputs": [],
   "source": []
  },
  {
   "cell_type": "code",
   "execution_count": null,
   "id": "2bdb3e5c",
   "metadata": {},
   "outputs": [],
   "source": []
  },
  {
   "cell_type": "code",
   "execution_count": null,
   "id": "c5cbce3e",
   "metadata": {},
   "outputs": [],
   "source": []
  },
  {
   "cell_type": "code",
   "execution_count": null,
   "id": "dd9f23e8",
   "metadata": {},
   "outputs": [],
   "source": []
  },
  {
   "cell_type": "code",
   "execution_count": null,
   "id": "6e6dae45",
   "metadata": {},
   "outputs": [],
   "source": []
  },
  {
   "cell_type": "code",
   "execution_count": null,
   "id": "46bd2b7b",
   "metadata": {},
   "outputs": [],
   "source": []
  },
  {
   "cell_type": "code",
   "execution_count": null,
   "id": "76bb1ed0",
   "metadata": {},
   "outputs": [],
   "source": []
  },
  {
   "cell_type": "code",
   "execution_count": null,
   "id": "2f4183f0",
   "metadata": {},
   "outputs": [],
   "source": []
  },
  {
   "cell_type": "code",
   "execution_count": null,
   "id": "0f7dc884",
   "metadata": {},
   "outputs": [],
   "source": []
  }
 ],
 "metadata": {
  "kernelspec": {
   "display_name": "Python 3 (ipykernel)",
   "language": "python",
   "name": "python3"
  },
  "language_info": {
   "codemirror_mode": {
    "name": "ipython",
    "version": 3
   },
   "file_extension": ".py",
   "mimetype": "text/x-python",
   "name": "python",
   "nbconvert_exporter": "python",
   "pygments_lexer": "ipython3",
   "version": "3.10.9"
  }
 },
 "nbformat": 4,
 "nbformat_minor": 5
}
