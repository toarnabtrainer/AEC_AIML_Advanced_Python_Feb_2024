{
 "cells": [
  {
   "cell_type": "markdown",
   "id": "6ca9a7b5",
   "metadata": {},
   "source": [
    "## **OOP with Python**"
   ]
  },
  {
   "cell_type": "markdown",
   "id": "d3e1a853",
   "metadata": {},
   "source": [
    "> Procedural languages lack in encapsulation, difficult to manage when code size > 10 KLOC, variables are unprotected, no automatic memory management by deleting dereferenced variables.\n",
    "\n",
    "> A class in Python can not have empty body, it must have a document statement or a pass statement."
   ]
  },
  {
   "cell_type": "code",
   "execution_count": 1,
   "id": "8fd27f95",
   "metadata": {},
   "outputs": [
    {
     "name": "stdout",
     "output_type": "stream",
     "text": [
      "This is a document statement\n",
      "    describing the purpose\n",
      "    of the class\n",
      "This is a document statement\n",
      "    describing the purpose\n",
      "    of the class\n"
     ]
    }
   ],
   "source": [
    "class MyFirstClass:\n",
    "    '''This is a document statement\n",
    "    describing the purpose\n",
    "    of the class'''\n",
    "\n",
    "ob1 = MyFirstClass()\n",
    "print (ob1.__doc__)\n",
    "print (MyFirstClass.__doc__)"
   ]
  },
  {
   "cell_type": "code",
   "execution_count": 5,
   "id": "c3226000",
   "metadata": {},
   "outputs": [],
   "source": [
    "class MyFirstClass:\n",
    "    pass    # statement place holder\n",
    "\n",
    "ob1 = MyFirstClass()"
   ]
  },
  {
   "cell_type": "code",
   "execution_count": 12,
   "id": "306dad75",
   "metadata": {},
   "outputs": [
    {
     "name": "stdout",
     "output_type": "stream",
     "text": [
      "Executing the constructor method...\n",
      "self = <__main__.MyFirstClass object at 0x00000282C0E50850>\n",
      "Executing display() method...\n",
      "class variable class_var1 = 100 and 100...\n",
      "instance variable inst_var1 = 111...\n",
      "This is a document string...\n",
      "This is a document string...\n",
      "Updating class or static variable...\n",
      "Executing the constructor method...\n",
      "self = <__main__.MyFirstClass object at 0x00000282C0E502E0>\n",
      "Executing display() method...\n",
      "class variable class_var1 = 110 and 110...\n",
      "instance variable inst_var1 = 222...\n"
     ]
    }
   ],
   "source": [
    "class MyFirstClass:\n",
    "    \"\"\"This is a document string...\"\"\"\n",
    "    class_var1 = 100    # class or static variable\n",
    "    def __init__(self, data1):   # self is an object binding variable\n",
    "        print (\"Executing the constructor method...\")\n",
    "        print (f\"self = {self}\")\n",
    "        self.inst_var1 = data1   # instance variable\n",
    "    def display(self):\n",
    "        print (\"Executing display() method...\")\n",
    "        print (f\"class variable class_var1 = {MyFirstClass.class_var1} and {self.class_var1}...\")\n",
    "        print (f\"instance variable inst_var1 = {self.inst_var1}...\")\n",
    "    def update(self):\n",
    "        print (\"Updating class or static variable...\")\n",
    "        MyFirstClass.class_var1 += 10\n",
    "ob1 = MyFirstClass(111)\n",
    "ob1.display()\n",
    "print (ob1.__doc__)\n",
    "print (MyFirstClass.__doc__)\n",
    "ob1.update()\n",
    "ob2 = MyFirstClass(222)\n",
    "ob2.display()"
   ]
  },
  {
   "cell_type": "code",
   "execution_count": 26,
   "id": "b0081c9b",
   "metadata": {},
   "outputs": [
    {
     "name": "stdout",
     "output_type": "stream",
     "text": [
      "Executing the constructor method...\n",
      "self = <__main__.MyFirstClass object at 0x00000282C0E500D0>\n",
      "Destructor method is executing...\n",
      "Executing display() method...\n",
      "class variable class_var1 = 100...\n",
      "instance variable inst_var1 = 111...\n"
     ]
    }
   ],
   "source": [
    "class MyFirstClass:\n",
    "    class_var1 = 100    # class or static variable\n",
    "    def __init__(self, data1):   # self is an object binding variable\n",
    "        print (\"Executing the constructor method...\")\n",
    "        print (f\"self = {self}\")\n",
    "        self.inst_var1 = data1   # instance variable\n",
    "    def display(self):\n",
    "        print (\"Executing display() method...\")\n",
    "        print (f\"class variable class_var1 = {MyFirstClass.class_var1}...\")\n",
    "        print (f\"instance variable inst_var1 = {self.inst_var1}...\")\n",
    "    def __del__(self):\n",
    "        print (\"Destructor method is executing...\")\n",
    "ob1 = MyFirstClass(111)\n",
    "ob1.display()"
   ]
  },
  {
   "cell_type": "code",
   "execution_count": 27,
   "id": "0965ff1e",
   "metadata": {},
   "outputs": [
    {
     "name": "stdout",
     "output_type": "stream",
     "text": [
      "Destructor method is executing...\n",
      "Destructor method is executing...\n"
     ]
    }
   ],
   "source": [
    "del ob1\n",
    "del ob2\n",
    "del ob3"
   ]
  },
  {
   "cell_type": "code",
   "execution_count": null,
   "id": "b5d21905",
   "metadata": {},
   "outputs": [],
   "source": [
    "# counting the number of objects defined under the class\n",
    "class MyClass:\n",
    "    count_object = 0\n",
    "    def __init__(self):\n",
    "        MyClass.count_object += 1\n",
    "        \n",
    "ob1 = MyClass()\n",
    "ob2 = MyClass()\n",
    "ob3 = MyClass()\n",
    "ob4 = MyClass()\n",
    "print (f\"Number of objects defined is {MyClass}\")"
   ]
  },
  {
   "cell_type": "code",
   "execution_count": null,
   "id": "8d461ff7",
   "metadata": {},
   "outputs": [],
   "source": []
  },
  {
   "cell_type": "code",
   "execution_count": null,
   "id": "841dc4e9",
   "metadata": {},
   "outputs": [],
   "source": []
  },
  {
   "cell_type": "code",
   "execution_count": null,
   "id": "8b3af6b2",
   "metadata": {},
   "outputs": [],
   "source": []
  },
  {
   "cell_type": "code",
   "execution_count": null,
   "id": "c0b7fb3e",
   "metadata": {},
   "outputs": [],
   "source": []
  },
  {
   "cell_type": "code",
   "execution_count": null,
   "id": "99b80227",
   "metadata": {},
   "outputs": [],
   "source": []
  },
  {
   "cell_type": "code",
   "execution_count": null,
   "id": "c72cf9af",
   "metadata": {},
   "outputs": [],
   "source": []
  },
  {
   "cell_type": "code",
   "execution_count": null,
   "id": "565491c5",
   "metadata": {},
   "outputs": [],
   "source": []
  },
  {
   "cell_type": "code",
   "execution_count": null,
   "id": "be12c954",
   "metadata": {},
   "outputs": [],
   "source": []
  },
  {
   "cell_type": "code",
   "execution_count": null,
   "id": "558573f1",
   "metadata": {},
   "outputs": [],
   "source": []
  },
  {
   "cell_type": "code",
   "execution_count": null,
   "id": "b7c8386d",
   "metadata": {},
   "outputs": [],
   "source": []
  },
  {
   "cell_type": "code",
   "execution_count": null,
   "id": "b1ba74b9",
   "metadata": {},
   "outputs": [],
   "source": []
  },
  {
   "cell_type": "code",
   "execution_count": null,
   "id": "777cfc5a",
   "metadata": {},
   "outputs": [],
   "source": []
  },
  {
   "cell_type": "code",
   "execution_count": null,
   "id": "83e34b4d",
   "metadata": {},
   "outputs": [],
   "source": []
  },
  {
   "cell_type": "code",
   "execution_count": null,
   "id": "3d268fc9",
   "metadata": {},
   "outputs": [],
   "source": []
  },
  {
   "cell_type": "code",
   "execution_count": null,
   "id": "27c92372",
   "metadata": {},
   "outputs": [],
   "source": []
  }
 ],
 "metadata": {
  "kernelspec": {
   "display_name": "Python 3 (ipykernel)",
   "language": "python",
   "name": "python3"
  },
  "language_info": {
   "codemirror_mode": {
    "name": "ipython",
    "version": 3
   },
   "file_extension": ".py",
   "mimetype": "text/x-python",
   "name": "python",
   "nbconvert_exporter": "python",
   "pygments_lexer": "ipython3",
   "version": "3.10.9"
  }
 },
 "nbformat": 4,
 "nbformat_minor": 5
}
