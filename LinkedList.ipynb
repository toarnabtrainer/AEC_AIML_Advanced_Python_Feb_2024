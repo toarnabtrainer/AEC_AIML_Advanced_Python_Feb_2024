{
 "cells": [
  {
   "cell_type": "markdown",
   "id": "b654fec1",
   "metadata": {},
   "source": [
    "## **Linked List Implementation**"
   ]
  },
  {
   "cell_type": "code",
   "execution_count": 1,
   "id": "f7824f60",
   "metadata": {},
   "outputs": [],
   "source": [
    "class Node:\n",
    "    def __init__(self, info):\n",
    "        self.__data = info\n",
    "        self.__next = None\n",
    "    def get_data(self):       # getter method\n",
    "        return self.__data\n",
    "    def set_data(self, info): # setter method\n",
    "        self.__data = info\n",
    "    def get_next(self):       # getter method\n",
    "        return self.__next\n",
    "    def set_next(self, next_node): # setter method\n",
    "        self.__next = next_node"
   ]
  },
  {
   "cell_type": "code",
   "execution_count": null,
   "id": "b7460038",
   "metadata": {},
   "outputs": [],
   "source": [
    "class LinkedList:\n",
    "    def __init__(self):\n",
    "        self.__head = None\n",
    "        self.__tail = None\n",
    "    def get_head(self):\n",
    "        return self.__head\n",
    "    def set_head(self, node):\n",
    "        self.__head = node\n",
    "    def get_tail(self):\n",
    "        return self.__tail\n",
    "    def set_tail(self, node):\n",
    "        self.__tail = node"
   ]
  },
  {
   "cell_type": "code",
   "execution_count": null,
   "id": "97a6cef4",
   "metadata": {},
   "outputs": [],
   "source": []
  },
  {
   "cell_type": "code",
   "execution_count": null,
   "id": "e05044c0",
   "metadata": {},
   "outputs": [],
   "source": []
  },
  {
   "cell_type": "code",
   "execution_count": null,
   "id": "70552dc6",
   "metadata": {},
   "outputs": [],
   "source": []
  },
  {
   "cell_type": "code",
   "execution_count": null,
   "id": "1d44958e",
   "metadata": {},
   "outputs": [],
   "source": []
  }
 ],
 "metadata": {
  "kernelspec": {
   "display_name": "Python 3 (ipykernel)",
   "language": "python",
   "name": "python3"
  },
  "language_info": {
   "codemirror_mode": {
    "name": "ipython",
    "version": 3
   },
   "file_extension": ".py",
   "mimetype": "text/x-python",
   "name": "python",
   "nbconvert_exporter": "python",
   "pygments_lexer": "ipython3",
   "version": "3.10.9"
  }
 },
 "nbformat": 4,
 "nbformat_minor": 5
}
