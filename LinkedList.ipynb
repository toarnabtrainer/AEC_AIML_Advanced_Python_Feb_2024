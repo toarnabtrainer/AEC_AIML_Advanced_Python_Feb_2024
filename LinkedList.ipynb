{
 "cells": [
  {
   "cell_type": "markdown",
   "id": "9a75233b",
   "metadata": {},
   "source": [
    "## **Linked List Implementation**"
   ]
  },
  {
   "cell_type": "code",
   "execution_count": 3,
   "id": "cdeee7f7",
   "metadata": {},
   "outputs": [],
   "source": [
    "class Node:\n",
    "    def __init__(self, info):\n",
    "        self.__data = info\n",
    "        self.__next = None\n",
    "    def get_data(self):       # getter method\n",
    "        return self.__data\n",
    "    def set_data(self, info): # setter method\n",
    "        self.__data = info\n",
    "    def get_next(self):       # getter method\n",
    "        return self.__next\n",
    "    def set_next(self, next_node): # setter method\n",
    "        self.__next = next_node"
   ]
  },
  {
   "cell_type": "code",
   "execution_count": 21,
   "id": "749fef56",
   "metadata": {},
   "outputs": [],
   "source": [
    "class LinkedList:\n",
    "    def __init__(self):\n",
    "        self.__head = None\n",
    "        self.__tail = None\n",
    "    def get_head(self):\n",
    "        return self.__head\n",
    "    def set_head(self, node):\n",
    "        self.__head = node\n",
    "    def get_tail(self):\n",
    "        return self.__tail\n",
    "    def set_tail(self, node):\n",
    "        self.__tail = node\n",
    "    def ll_append(self, info):\n",
    "        # if the linked list does not pre-exist then create the linked list\n",
    "        # otherwise append a new node at the end of the linked list\n",
    "        new_node = Node(info)\n",
    "        if (self.get_head() is None):\n",
    "            new_node.set_next(None)\n",
    "            self.set_head(new_node)\n",
    "            self.set_tail(new_node)\n",
    "            print (\"Creating a linked list with a new node...\")\n",
    "        else:\n",
    "            self.get_tail().set_next(new_node)\n",
    "            self.set_tail(new_node)\n",
    "            # print (\"Appending the new node at the end of the linked list...\")\n",
    "    def ll_display(self):\n",
    "        ptr = self.get_head()\n",
    "        if (ptr == None):\n",
    "            print (\"Linked list is not pre-existing...\")\n",
    "        else:\n",
    "            print (\"Displaying the current content of the linked list...\")\n",
    "            while (ptr is not None):\n",
    "                # print (f\"Info = {ptr.get_data()} and link = {ptr.get_next()}...\")\n",
    "                print (ptr.get_data(), end = \", \")\n",
    "                ptr = ptr.get_next()\n",
    "        print (\"\\nEnd of the display operation...\")\n",
    "    def __str__(self):\n",
    "        ptr = self.get_head()\n",
    "        all_info = []\n",
    "        while (ptr is not None):\n",
    "            all_info.append(str(ptr.get_data()))\n",
    "            ptr = ptr.get_next()\n",
    "        message = \", \".join(all_info)\n",
    "        return \"Linked list from Head to Tail: \" + message"
   ]
  },
  {
   "cell_type": "code",
   "execution_count": 22,
   "id": "7f4d0dca",
   "metadata": {},
   "outputs": [
    {
     "name": "stdout",
     "output_type": "stream",
     "text": [
      "Creating a linked list with a new node...\n",
      "Displaying the current content of the linked list...\n",
      "33, 22, 11, 77, 55, 44, 66, \n",
      "End of the display operation...\n",
      "Linked list from Head to Tail: 33, 22, 11, 77, 55, 44, 66\n"
     ]
    }
   ],
   "source": [
    "data_list = [33, 22, 11, 77, 55, 44, 66]\n",
    "link_list = LinkedList()\n",
    "for info in data_list:\n",
    "    link_list.ll_append(info)\n",
    "link_list.ll_display()\n",
    "print (link_list)"
   ]
  },
  {
   "cell_type": "code",
   "execution_count": 13,
   "id": "a9518302",
   "metadata": {},
   "outputs": [
    {
     "name": "stdout",
     "output_type": "stream",
     "text": [
      "Help on built-in function print in module builtins:\n",
      "\n",
      "print(...)\n",
      "    print(value, ..., sep=' ', end='\\n', file=sys.stdout, flush=False)\n",
      "    \n",
      "    Prints the values to a stream, or to sys.stdout by default.\n",
      "    Optional keyword arguments:\n",
      "    file:  a file-like object (stream); defaults to the current sys.stdout.\n",
      "    sep:   string inserted between values, default a space.\n",
      "    end:   string appended after the last value, default a newline.\n",
      "    flush: whether to forcibly flush the stream.\n",
      "\n"
     ]
    }
   ],
   "source": [
    "help(print)"
   ]
  },
  {
   "cell_type": "code",
   "execution_count": null,
   "id": "1cc1a0b7",
   "metadata": {},
   "outputs": [],
   "source": []
  },
  {
   "cell_type": "code",
   "execution_count": null,
   "id": "f55743b8",
   "metadata": {},
   "outputs": [],
   "source": []
  }
 ],
 "metadata": {
  "kernelspec": {
   "display_name": "Python 3 (ipykernel)",
   "language": "python",
   "name": "python3"
  },
  "language_info": {
   "codemirror_mode": {
    "name": "ipython",
    "version": 3
   },
   "file_extension": ".py",
   "mimetype": "text/x-python",
   "name": "python",
   "nbconvert_exporter": "python",
   "pygments_lexer": "ipython3",
   "version": "3.10.9"
  }
 },
 "nbformat": 4,
 "nbformat_minor": 5
}
